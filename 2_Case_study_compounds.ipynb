{
 "cells": [
  {
   "cell_type": "markdown",
   "metadata": {},
   "source": [
    "# Case study compounds\n",
    "\n",
    "Process file of EU-ToxRisk case study compounds assembed by Anne."
   ]
  },
  {
   "cell_type": "code",
   "execution_count": 1,
   "metadata": {
    "collapsed": false
   },
   "outputs": [],
   "source": [
    "%run setup.py"
   ]
  },
  {
   "cell_type": "markdown",
   "metadata": {},
   "source": [
    "### Config"
   ]
  },
  {
   "cell_type": "code",
   "execution_count": 2,
   "metadata": {
    "collapsed": true
   },
   "outputs": [],
   "source": [
    "# Directory for input files...\n",
    "\n",
    "files_dir = 'files'\n",
    "\n",
    "# Case study compounds file (TSV format) from Anne Hersey...\n",
    "\n",
    "filename = 'case_study_compounds_141216.txt'"
   ]
  },
  {
   "cell_type": "code",
   "execution_count": 3,
   "metadata": {
    "collapsed": true
   },
   "outputs": [],
   "source": [
    "# Directory for reading and writing data files...\n",
    "\n",
    "data_dir = 'data'"
   ]
  },
  {
   "cell_type": "code",
   "execution_count": 4,
   "metadata": {
    "collapsed": false
   },
   "outputs": [],
   "source": [
    "tick, cross = '\\u2713', '\\u2717'"
   ]
  },
  {
   "cell_type": "markdown",
   "metadata": {},
   "source": [
    "### Initialisation"
   ]
  },
  {
   "cell_type": "code",
   "execution_count": 5,
   "metadata": {
    "collapsed": true
   },
   "outputs": [],
   "source": [
    "if not 'logger' in locals(): logger = make_logger.run(__name__)"
   ]
  },
  {
   "cell_type": "markdown",
   "metadata": {},
   "source": [
    "### Load compounds"
   ]
  },
  {
   "cell_type": "code",
   "execution_count": 6,
   "metadata": {
    "collapsed": false
   },
   "outputs": [
    {
     "data": {
      "text/plain": [
       "(190, 10)"
      ]
     },
     "execution_count": 6,
     "metadata": {},
     "output_type": "execute_result"
    }
   ],
   "source": [
    "df0 = pd.read_csv(os.path.join(files_dir, filename), delimiter='\\t')\n",
    "\n",
    "df0.shape"
   ]
  },
  {
   "cell_type": "code",
   "execution_count": 7,
   "metadata": {
    "collapsed": false
   },
   "outputs": [
    {
     "data": {
      "text/html": [
       "<table border=\"1\" class=\"dataframe\">\n",
       "  <thead>\n",
       "    <tr style=\"text-align: right;\">\n",
       "      <th></th>\n",
       "      <th>Label</th>\n",
       "      <th>Case Study</th>\n",
       "      <th>CAS</th>\n",
       "      <th>deleted CAS Registry Numbers</th>\n",
       "      <th>Compound</th>\n",
       "      <th>Smiles</th>\n",
       "      <th>canonical_smiles</th>\n",
       "      <th>inchi</th>\n",
       "      <th>inchikey</th>\n",
       "      <th>alternative name</th>\n",
       "    </tr>\n",
       "  </thead>\n",
       "  <tbody>\n",
       "    <tr>\n",
       "      <th>0</th>\n",
       "      <td>1</td>\n",
       "      <td>1</td>\n",
       "      <td>526-86-3</td>\n",
       "      <td>NaN</td>\n",
       "      <td>2,3-Dimethyl-2,5-cyclohexadiene-1,4 dione</td>\n",
       "      <td>CC1=C(C)C(=O)C=CC1=O</td>\n",
       "      <td>CC1=C(C)C(=O)C=CC1=O</td>\n",
       "      <td>InChI=1S/C8H8O2/c1-5-6(2)8(10)4-3-7(5)9/h3-4H,1-2H3</td>\n",
       "      <td>AIACLXROWHONEE-UHFFFAOYSA-N</td>\n",
       "      <td>NaN</td>\n",
       "    </tr>\n",
       "  </tbody>\n",
       "</table>"
      ],
      "text/plain": [
       "   Label  Case Study       CAS deleted CAS Registry Numbers                                   Compound                Smiles      canonical_smiles                                                inchi                     inchikey alternative name\n",
       "0      1           1  526-86-3                          NaN  2,3-Dimethyl-2,5-cyclohexadiene-1,4 dione  CC1=C(C)C(=O)C=CC1=O  CC1=C(C)C(=O)C=CC1=O  InChI=1S/C8H8O2/c1-5-6(2)8(10)4-3-7(5)9/h3-4H,1-2H3  AIACLXROWHONEE-UHFFFAOYSA-N              NaN"
      ]
     },
     "execution_count": 7,
     "metadata": {},
     "output_type": "execute_result"
    }
   ],
   "source": [
    "df0.head(1)"
   ]
  },
  {
   "cell_type": "code",
   "execution_count": 8,
   "metadata": {
    "collapsed": false
   },
   "outputs": [
    {
     "data": {
      "text/html": [
       "<table border=\"1\" class=\"dataframe\">\n",
       "  <thead>\n",
       "    <tr style=\"text-align: right;\">\n",
       "      <th></th>\n",
       "      <th>Compound</th>\n",
       "      <th>inchikey</th>\n",
       "    </tr>\n",
       "  </thead>\n",
       "  <tbody>\n",
       "    <tr>\n",
       "      <th>86</th>\n",
       "      <td>Valproic Acid</td>\n",
       "      <td>NIJJYAXOARWZEE-UHFFFAOYSA-N</td>\n",
       "    </tr>\n",
       "    <tr>\n",
       "      <th>88</th>\n",
       "      <td>Valproic acid</td>\n",
       "      <td>NIJJYAXOARWZEE-UHFFFAOYSA-N</td>\n",
       "    </tr>\n",
       "    <tr>\n",
       "      <th>120</th>\n",
       "      <td>Hydroquinone</td>\n",
       "      <td>QIGBRXMKCJKVMJ-UHFFFAOYSA-N</td>\n",
       "    </tr>\n",
       "    <tr>\n",
       "      <th>119</th>\n",
       "      <td>hydroquinone</td>\n",
       "      <td>QIGBRXMKCJKVMJ-UHFFFAOYSA-N</td>\n",
       "    </tr>\n",
       "  </tbody>\n",
       "</table>"
      ],
      "text/plain": [
       "          Compound                     inchikey\n",
       "86   Valproic Acid  NIJJYAXOARWZEE-UHFFFAOYSA-N\n",
       "88   Valproic acid  NIJJYAXOARWZEE-UHFFFAOYSA-N\n",
       "120   Hydroquinone  QIGBRXMKCJKVMJ-UHFFFAOYSA-N\n",
       "119   hydroquinone  QIGBRXMKCJKVMJ-UHFFFAOYSA-N"
      ]
     },
     "execution_count": 8,
     "metadata": {},
     "output_type": "execute_result"
    }
   ],
   "source": [
    "# There are some issues with the compound names (i.e. column 'Compound')...\n",
    "\n",
    "df = df0[['Compound', 'inchikey']].drop_duplicates()\n",
    "\n",
    "duplicated = set(df['inchikey'][df['inchikey'].duplicated()])\n",
    "\n",
    "df.query(\"inchikey in @duplicated\").sort_values(['inchikey', 'Compound'])"
   ]
  },
  {
   "cell_type": "code",
   "execution_count": 9,
   "metadata": {
    "collapsed": true
   },
   "outputs": [],
   "source": [
    "# Drop unneeded columns and simplify column names...\n",
    "\n",
    "df1 = (\n",
    "    df0\n",
    "        .drop(['Label', 'Smiles', 'deleted CAS Registry Numbers', 'alternative name'], axis=1)\n",
    "        .rename(columns={\n",
    "          'Compound':         'name'\n",
    "        , 'canonical_smiles': 'smiles'\n",
    "        })\n",
    "        .fillna('')\n",
    "    )"
   ]
  },
  {
   "cell_type": "code",
   "execution_count": 10,
   "metadata": {
    "collapsed": true
   },
   "outputs": [],
   "source": [
    "# Fix the compound name issues by standardising the names...\n",
    "\n",
    "fixes = [\n",
    "      ('Valproic acid', 'Valproic Acid')\n",
    "    , ('hydroquinone',  'Hydroquinone')\n",
    "]\n",
    "\n",
    "for old, new in fixes: df1['name'] = df1['name'].str.replace(old, new)"
   ]
  },
  {
   "cell_type": "code",
   "execution_count": 11,
   "metadata": {
    "collapsed": false
   },
   "outputs": [
    {
     "data": {
      "text/plain": [
       "set()"
      ]
     },
     "execution_count": 11,
     "metadata": {},
     "output_type": "execute_result"
    }
   ],
   "source": [
    "# Check the compound name issues have disappeared...\n",
    "\n",
    "df = df1[['name', 'inchikey']].drop_duplicates()\n",
    "\n",
    "set(df['inchikey'][df['inchikey'].duplicated()])"
   ]
  },
  {
   "cell_type": "code",
   "execution_count": 12,
   "metadata": {
    "collapsed": false,
    "scrolled": true
   },
   "outputs": [
    {
     "data": {
      "text/html": [
       "<table border=\"1\" class=\"dataframe\">\n",
       "  <thead>\n",
       "    <tr style=\"text-align: right;\">\n",
       "      <th></th>\n",
       "      <th>Case Study</th>\n",
       "      <th>CAS</th>\n",
       "      <th>name</th>\n",
       "      <th>smiles</th>\n",
       "      <th>inchi</th>\n",
       "      <th>inchikey</th>\n",
       "    </tr>\n",
       "  </thead>\n",
       "  <tbody>\n",
       "    <tr>\n",
       "      <th>0</th>\n",
       "      <td>1</td>\n",
       "      <td>526-86-3</td>\n",
       "      <td>2,3-Dimethyl-2,5-cyclohexadiene-1,4 dione</td>\n",
       "      <td>CC1=C(C)C(=O)C=CC1=O</td>\n",
       "      <td>InChI=1S/C8H8O2/c1-5-6(2)8(10)4-3-7(5)9/h3-4H,1-2H3</td>\n",
       "      <td>AIACLXROWHONEE-UHFFFAOYSA-N</td>\n",
       "    </tr>\n",
       "  </tbody>\n",
       "</table>"
      ],
      "text/plain": [
       "   Case Study       CAS                                       name                smiles                                                inchi                     inchikey\n",
       "0           1  526-86-3  2,3-Dimethyl-2,5-cyclohexadiene-1,4 dione  CC1=C(C)C(=O)C=CC1=O  InChI=1S/C8H8O2/c1-5-6(2)8(10)4-3-7(5)9/h3-4H,1-2H3  AIACLXROWHONEE-UHFFFAOYSA-N"
      ]
     },
     "execution_count": 12,
     "metadata": {},
     "output_type": "execute_result"
    }
   ],
   "source": [
    "df1.head(1)"
   ]
  },
  {
   "cell_type": "code",
   "execution_count": 13,
   "metadata": {
    "collapsed": false,
    "scrolled": false
   },
   "outputs": [
    {
     "data": {
      "text/plain": [
       "(176, 12)"
      ]
     },
     "execution_count": 13,
     "metadata": {},
     "output_type": "execute_result"
    }
   ],
   "source": [
    "# Pivot on the compounds...\n",
    "\n",
    "df1['Case Study'] = [\"Case Study {}\".format(x) for x in df1['Case Study']] # Case study column name\n",
    "\n",
    "df1['tick'] = tick\n",
    "\n",
    "cs_cmpds_df = (\n",
    "    df1.pivot_table(index=['CAS', 'name', 'smiles', 'inchi', 'inchikey'], columns='Case Study', values='tick', aggfunc='first', fill_value=cross)\n",
    "    .reset_index()\n",
    ")\n",
    "\n",
    "cs_cmpds_df.columns.name = None\n",
    "\n",
    "cs_cmpds_df.shape"
   ]
  },
  {
   "cell_type": "code",
   "execution_count": 14,
   "metadata": {
    "collapsed": false
   },
   "outputs": [
    {
     "data": {
      "text/html": [
       "<table border=\"1\" class=\"dataframe\">\n",
       "  <thead>\n",
       "    <tr style=\"text-align: right;\">\n",
       "      <th></th>\n",
       "      <th>CAS</th>\n",
       "      <th>name</th>\n",
       "      <th>smiles</th>\n",
       "      <th>inchi</th>\n",
       "      <th>inchikey</th>\n",
       "      <th>Case Study 1</th>\n",
       "      <th>Case Study 2</th>\n",
       "      <th>Case Study 3</th>\n",
       "      <th>Case Study 4</th>\n",
       "      <th>Case Study 5</th>\n",
       "      <th>Case Study 6</th>\n",
       "      <th>Case Study 7</th>\n",
       "    </tr>\n",
       "  </thead>\n",
       "  <tbody>\n",
       "    <tr>\n",
       "      <th>0</th>\n",
       "      <td></td>\n",
       "      <td>2,2-dimethyl-pentanoic acid</td>\n",
       "      <td>CCCC(C)(C)C(=O)O</td>\n",
       "      <td>InChI=1S/C7H14O2/c1-4-5-7(2,3)6(8)9/h4-5H2,1-3H3,(H,8,9)</td>\n",
       "      <td>ZRYCZAWRXHAAPZ-UHFFFAOYSA-N</td>\n",
       "      <td>✗</td>\n",
       "      <td>✓</td>\n",
       "      <td>✗</td>\n",
       "      <td>✗</td>\n",
       "      <td>✗</td>\n",
       "      <td>✗</td>\n",
       "      <td>✗</td>\n",
       "    </tr>\n",
       "  </tbody>\n",
       "</table>"
      ],
      "text/plain": [
       "  CAS                         name            smiles                                                     inchi                     inchikey Case Study 1 Case Study 2 Case Study 3 Case Study 4 Case Study 5 Case Study 6 Case Study 7\n",
       "0      2,2-dimethyl-pentanoic acid  CCCC(C)(C)C(=O)O  InChI=1S/C7H14O2/c1-4-5-7(2,3)6(8)9/h4-5H2,1-3H3,(H,8,9)  ZRYCZAWRXHAAPZ-UHFFFAOYSA-N            ✗            ✓            ✗            ✗            ✗            ✗            ✗"
      ]
     },
     "execution_count": 14,
     "metadata": {},
     "output_type": "execute_result"
    }
   ],
   "source": [
    "cs_cmpds_df.head(1)"
   ]
  },
  {
   "cell_type": "code",
   "execution_count": 15,
   "metadata": {
    "collapsed": false
   },
   "outputs": [],
   "source": [
    "# Check there are no duplicated identifiers...\n",
    "\n",
    "for col in ['smiles', 'name', 'inchi', 'inchikey']: assert not cs_cmpds_df[col].duplicated().sum()"
   ]
  },
  {
   "cell_type": "code",
   "execution_count": 16,
   "metadata": {
    "collapsed": false
   },
   "outputs": [
    {
     "data": {
      "text/html": [
       "<table border=\"1\" class=\"dataframe\">\n",
       "  <thead>\n",
       "    <tr style=\"text-align: right;\">\n",
       "      <th></th>\n",
       "      <th>CAS</th>\n",
       "      <th>name</th>\n",
       "      <th>smiles</th>\n",
       "      <th>inchi</th>\n",
       "      <th>inchikey</th>\n",
       "      <th>Case Study 1</th>\n",
       "      <th>Case Study 2</th>\n",
       "      <th>Case Study 3</th>\n",
       "      <th>Case Study 4</th>\n",
       "      <th>Case Study 5</th>\n",
       "      <th>Case Study 6</th>\n",
       "      <th>Case Study 7</th>\n",
       "    </tr>\n",
       "  </thead>\n",
       "  <tbody>\n",
       "    <tr>\n",
       "      <th>120</th>\n",
       "      <td>29457-72-5</td>\n",
       "      <td>LPOS ( Lithium perfluorooctane sulfonate)</td>\n",
       "      <td>[Li+].[O-]S(=O)(=O)C(F)(F)C(F)(F)C(F)(F)C(F)(F)C(F)(F)C(F)(F)C(F)(F)C(F)(F)F</td>\n",
       "      <td>InChI=1S/C8HF17O3S.Li/c9-1(10,3(13,14)5(17,18)7(21,22)23)2(11,12)4(15,16)6(19,20)8(24,25)29(26,27)28;/h(H,26,27,28);/q;+1/p-1</td>\n",
       "      <td>XVCUGNWRDDNCRD-UHFFFAOYSA-M</td>\n",
       "      <td>✗</td>\n",
       "      <td>✗</td>\n",
       "      <td>✗</td>\n",
       "      <td>✓</td>\n",
       "      <td>✗</td>\n",
       "      <td>✗</td>\n",
       "      <td>✗</td>\n",
       "    </tr>\n",
       "  </tbody>\n",
       "</table>"
      ],
      "text/plain": [
       "            CAS                                       name                                                                        smiles                                                                                                                          inchi                     inchikey Case Study 1 Case Study 2 Case Study 3 Case Study 4 Case Study 5 Case Study 6 Case Study 7\n",
       "120  29457-72-5  LPOS ( Lithium perfluorooctane sulfonate)  [Li+].[O-]S(=O)(=O)C(F)(F)C(F)(F)C(F)(F)C(F)(F)C(F)(F)C(F)(F)C(F)(F)C(F)(F)F  InChI=1S/C8HF17O3S.Li/c9-1(10,3(13,14)5(17,18)7(21,22)23)2(11,12)4(15,16)6(19,20)8(24,25)29(26,27)28;/h(H,26,27,28);/q;+1/p-1  XVCUGNWRDDNCRD-UHFFFAOYSA-M            ✗            ✗            ✗            ✓            ✗            ✗            ✗"
      ]
     },
     "execution_count": 16,
     "metadata": {},
     "output_type": "execute_result"
    }
   ],
   "source": [
    "# Check for dot-disconnected SMILES...\n",
    "\n",
    "cs_cmpds_df[cs_cmpds_df['smiles'].str.contains('\\.')]"
   ]
  },
  {
   "cell_type": "markdown",
   "metadata": {},
   "source": [
    "The only dot-disconnected SMILES is for LPOS (Lithium PerfluoroOctane Sulfonate), CAS 29457-72-5."
   ]
  },
  {
   "cell_type": "code",
   "execution_count": 17,
   "metadata": {
    "collapsed": false
   },
   "outputs": [],
   "source": [
    "# Add RDKit molecules for inspection...\n",
    "\n",
    "PandasTools.AddMoleculeColumnToFrame(cs_cmpds_df, smilesCol='smiles', molCol='mol')"
   ]
  },
  {
   "cell_type": "code",
   "execution_count": 18,
   "metadata": {
    "collapsed": false,
    "scrolled": false
   },
   "outputs": [
    {
     "data": {
      "text/html": [
       "<table border=\"1\" class=\"dataframe\">\n",
       "  <thead>\n",
       "    <tr style=\"text-align: right;\">\n",
       "      <th></th>\n",
       "      <th>name</th>\n",
       "      <th>mol</th>\n",
       "    </tr>\n",
       "  </thead>\n",
       "  <tbody>\n",
       "    <tr>\n",
       "      <th>0</th>\n",
       "      <td>2,2-dimethyl-pentanoic acid</td>\n",
       "      <td><img src=\"data:image/png;base64,iVBORw0KGgoAAAANSUhEUgAAAMgAAADICAIAAAAiOjnJAAAEOUlEQVR4nO3dXXPaOhSGUftM//9f9rlgSgjmw8V+pW2x1vSiSTsT133YkoC087IsExztv94XwJiERYSwiBAWEcIiQlhECIsIYREhLCKERYSwiBAWEcIiQlhECIsIYREhLCKERYSwiBAWEcIiQlhECIsIYREhLCKERYSwiBAWEcIiQlhECIsIYREhLCKERYSwiBAWEcIiQlhECIsIYREhLCKERYSwiBAWEcIiQlhECIsIYREhLCKERYSwiBAWEcIiQlhECIsIYREhLCL+9L4AMub55+fL0v7rC2tE8/wrprsPm7AUDmed0bL8GmBNCIsIYREhLCKERYSwhrPeqvc4FXq6YUR3bXkei8P0iOmWpZAIYQ2k+bOgLwiLCGHtNVeaEw90ujxhjaLHcwovCGuvZVmqD60ehDW0fmNMWEQIawjFNliTsA5hm7UmrHF1HWPCIkJY51dvgzUJ6yi2WXeEdXqPc+49xoRFhLDObZ7n5dFk6r4qC+swtlm3hDWgZ2OsJWERIawTqzCZnhHWkWyzrk4T1jzP/s62KDLGSn9f4W1Jl5tV5K7xVsWwrj2tG7qsNZXbanaFxe9DobBe9HSrfltM3cNaL3ZbaOuZOrelT1gbh9ML2rpuOqcdtzGnXVifDacXyraVvrBTnGniYe0fTi+UbSvh7Znm4S/1kgor2tOt4dvafqaZKo2uI8M6fLHbaLy2Pr6TdW7FMRdRYQ4XuaFXH1zPUWO+wq3ofwUHqnBDrzZeTGjMd3+oF3qCdL86C8Fb6T1o9y3XUGFNJc9Ht5qdaX6+SqfvqjjH4/sDFUbX5Rp6nWlur6N9W/3vfk7fthoPpzeat3Wa92N9oMvb7ua/Lj2VqGrq8B+AjTyxLhrMrReLXYUV+UfDuTXa5n0td1Sstdht0XAvP35Y09Ftna+nW63a+oqwpt1t9T/ZHahJW5V2AHn/2tYhw6nWNusq3Na3TKyLjXPr3IvdRuG59V1hTc/bGmqx2yj5xyw5pfOubbUZTkVXw6Svm1gXxV9SHMCXhjVJKmzkl3TqOMe/6TDPPz/uPr/+ne9878Til7sT4u4Do4nFo4x2v2gtLCIshY2c6G3TD/z79BIWG9w9HjZ0ZikkQljt1H3SYb1V330qtBQyTdOqrd17QWHx17OY1p/fkJ2lkAhhNVV3m3U0YREhLCKE1dqXrIbCIkJYRAirg29YDYVFhLCIEBYRwupj+G2WsIgQVjdnfZvyNsIiQlhECIsIYREhLCKERYSwiBAWEcIiQlhECIsIYREhLCKERYSwiBAWEcIiQlhECIsIYREhLCKERYSwiBAWEcIiQlhECIsIYREhLCKERYSwiBAWEcIiQlhECIsIYREhLCKERYSwiBAWEcIiQlhECIsIYREhLCKERYSwiBAWEcIiQlhECIsIYREhLCKERYSwiBAWEcIiQlhECIuI/wGPWMtvdnRfMwAAAABJRU5ErkJggg==\" alt=\"Mol\"/></td>\n",
       "    </tr>\n",
       "    <tr>\n",
       "      <th>1</th>\n",
       "      <td>2-butyl-hexanoic acid</td>\n",
       "      <td><img src=\"data:image/png;base64,iVBORw0KGgoAAAANSUhEUgAAAMgAAADICAIAAAAiOjnJAAADX0lEQVR4nO3cwVLiQBRA0WRq/v+XMwtKCy0YQHPTJDln5UJ8dLg2IQrzsiwTrO3P6DvAMQmLhLBICIuEsEgIi4SwSAiLhLBICIuEsEgIi4SwSAiLhLBICIuEsEgIi4SwSAiLhLBICIuEsEgIi4SwSAiLhLBICIuEsEgIi4SwSAiLhLBICIuEsEgIi4SwSAiLhLBICIuEsEgIi4SwSAiLhLBICIuEsEgIi4SwSAiLhLBICIuEsEgIi4SwSAiLhLBICIuEsEgIi4SwSAiLhLBICIuEsEgIi4SwSAiLhLBICIuEsEgIi4SwSAiLhLBICIvE4LDmeT78xCFDhyzz2t9Rgy8rX5bl84vjTRwydMgyb9yN7QffXHB6FLafOGTokGXevTNbjny4yNWPwvYThwwdsswHd2mzYfP87Kznv3PFidNKx/3Nl7ndw73ls356k9/f/JfHfRfL3O5UL52xuwP34yI3Hjpkma+NSM9ed7rVv3Tcd73M8NEvfvQxTk7PcA7ebV0rh3W8l9NnuGqQ/Fqu9eOOfQHwDNc51x20g2frN5k4ZOh+Jw54ePZrSM075b8bSAiLhLBICIuEsEgIi4SwSAiLhLBICIuEsEgIi4SwSAiLhLBICIuEsEgIi4SwSAjrNcM/d2ovhPWay/ux5PXQsA9e26/LG3XGfqzZ+/N+pqfcy0he9wjrgafekTzPk8P4lbDuuvcZCnfbmiZ5fRLWLfM833+Ce7B1TfKaJmF993QZ8vo/YX34WQ3/Obs694mXsH69wdifbjn9dazf7yuXm8vrKzvWquT1wZ90VrUs07JM/uBz5LCuH93Pr+d5i0f92451GXqy2s50jjXkZdr10DO9Tjx0WCfbJN7KocO63irY1nHPsRjq0DvWN5+v17Y80bl+kXiaE6zJdSwingpJCIuEsEgIi4SwSAiLhLBICIuEsEgIi4SwSAiLhLBICIuEsEgIi4SwSAiLhLBICIuEsEgIi4SwSAiLhLBICIuEsEgIi4SwSAiLhLBICIuEsEgIi4SwSAiLhLBICIuEsEgIi4SwSAiLhLBICIuEsEgIi4SwSAiLhLBICIuEsEgIi4SwSAiLhLBICIuEsEgIi4SwSAiLhLBICIuEsEgIi4SwSAiLhLBICIuEsEgIi4SwSPwDvoWYb0+fAzEAAAAASUVORK5CYII=\" alt=\"Mol\"/></td>\n",
       "    </tr>\n",
       "    <tr>\n",
       "      <th>2</th>\n",
       "      <td>2-ethyl-1-hexanol</td>\n",
       "      <td><img src=\"data:image/png;base64,iVBORw0KGgoAAAANSUhEUgAAAMgAAADICAIAAAAiOjnJAAADoklEQVR4nO3c0VLbOABAUWtn//+X3QemWUqXNqW+tqycM7zAZMCxbqREOBn7vm9wtH+uPgDWJCwSwiIhLBLCIiEsEsIiISwSwiIhLBLCIiEsEsIiISwSwiIhLBLCIiEsEsIiISwSwiIhLBLCIiEsEsIiISwSwiIhLBLCIiEsEsIiISwSwiIhLBLCIiEsEsIiISwSwiIhLBLCIiEsEsIiISwSwiIhLBLCIiEsEsIiISwSwiIhLBLCIiEsEsIiISwSwiIhLBLCIiEsEsIiISwSwiIhLBLCIiEsEsIiISwScVhjfPrtGP99sZx/r/mzY2z7/um33J+lkEQ/Y/3pSvd2exPYzfVhfVjynry9vG7uoudYvyWvm5s1rDfyuq2Lwtr3H5bFX0cjrxsa+72Gaoxt28a23eywX8/dwvpujLHJa2J3DevN+L6e3vpeLOneYT2YwGazSFhv5DWPpf6lI6l5LBUW81gtrH3fh+twJrBaWExCWCSERUJYJIRFYsGwvDCcwYJhMQNhkRAWCWGREBY/OOp1z5pheWH4NWMcdhnV3O/S4SyHX8omLI6cqB7WXAp5XlHVZsZ6ZemV3MJ6UdFE9bDsUjj5C8MxxoWHV1e1mbEu8RjXS95WdEJVm7BO9qGk93ltfWFndiys83w2VTx+mA78ORPVg7BO8sy4dhPYyVVtwjrHH43rhwls++vCzq9qW+wt9j+75JwefgxfXiIv/MwBM1boqHH92hJ57YPq+gd06sKHbDeuz9ypy6fqlcO6cLvohHH9bAKb5CN31gzrf0/umdtFJ0e8vVsuJxnQWY7jQL89uSttF73/u9sEE9XDamE9P66HT2CzDe21lgrra7PFIYXNswZNYp3Tce120TKn8SgrnJFj16B7bRdN65iTYruID448L7aLeDh+YGwXsaXPsWwXvbLLlpK//IWGdnLnPe5tF72UKy4Bs130Ai4bKttFa7t+tGwXLWmWAbNdtJhZwnqwXbSGSUfORHV3k4bF3S37oSBcS1gkhEVCWCSERUJYJIRFQlgkhEVCWCSERUJYJIRFQlgkhEVCWCSERUJYJIRFQlgkhEVCWCSERUJYJIRFQlgkhEVCWCSERUJYJIRFQlgkhEVCWCSERUJYJIRFQlgkhEVCWCSERUJYJIRFQlgkhEVCWCSERUJYJIRFQlgkhEVCWCSERUJYJIRFQlgkhEVCWCSERUJYJIRFQlgkhEVCWCSERUJYJIRFQlgkhEXiG61OqUvMx3rLAAAAAElFTkSuQmCC\" alt=\"Mol\"/></td>\n",
       "    </tr>\n",
       "    <tr>\n",
       "      <th>3</th>\n",
       "      <td>2-ethyl-butanoic acid (2EB)</td>\n",
       "      <td><img src=\"data:image/png;base64,iVBORw0KGgoAAAANSUhEUgAAAMgAAADICAIAAAAiOjnJAAAD+UlEQVR4nO3dzXLaSBhAUTOV939lZsGMixj/AOZK3a1zVqksTLe+i6RgAqfz+fwGr/bP3gtgTcIiISwSwiIhLBLCIiEsEsIiISwSwiIhLBLCIiEsEsIiISwSwiIhLBLCIiEsEsIiISwSwiIhLBLCIiEsEsIiISwSwiIhLBLCIiEsEsIiISwSwiIhLBLCIiEsEsIiISwSwiIhLBLCIiEsEsIiISwSwiIhLBLCIiEsEsIiISwSwiIhLBLCIiEsEsIiISwSwiIhLBLCIrFIWKfTae8lvMYyG/mz9wJ+6zKJ8/n8/oe9V/SkZTZycZp3A58OYMapLLORa1OG9eNBn2Uqy2zk1nxhnU73rnnwqTy0kWF38ZWZVvxcKANO5YmNDP4kuTXcQf/ULw/rOFNZZiM/Gj2sFx7KfaeyzEbuNHRYxVVsl6lEGxl6dmMurh7/ZlNJNzLyqWu4sDY7WBu0m/787R/oIWOFtf3pPZrKLhsZa5SDrMad9dQPfWv/sMY5HGu8FjDKMnZcwSCH4IMnrikDbmT3Je0W1mj3BNcemsrgG9ltvts/8O5Ppjut8RvivRa5aVhTTOKDNd7Tsv2CV3idcANrvAtvy8VvEdbIdyEPWWMj2+xii/e8LzCMlWwzjkX+MwWjERYJYZEQFglhkRAWCWGREBYJYZEQFglhkRAWCWGREBYJYZEQFglhkRAWCWGREBYJYZEQFglhkRAWCWGREBYJYZEQFglhkRAWCWGREBYJYZEQ1mOW+Zb5mrAec/l8W3n96M/eC5jP5TM8p/745A04Yz3pfD6/fzo3t4T1K66MX1nhg8s3cM/XnziS1xyOH9x/L+Wu65qwvnQdyv0nJHldCOsTL/hiptPp7dgHVlh/eeVXyV3u6I96eIX1n+rLL4+al7De3t6euXI9fGV8O1Zehw/rdyOX11cOHNbrxiyvW4cMKxrtQ9fT1fM6WFj1OB/9+eu+KnGYsLY8Q6x+NrrHAd42s/2YL4917LxWD2vHa82x8zrMpXBfx8tr9TPWII539ho+rNtr2Ye/uX6T3eAze8/r03VOtJE7DB/W924jG38kX1U13Ua+NfNbk2+P/vn81/N+Fsts5MrMYTGwGS6Fkz93j2mGsG5v3hmeSyGJmcO6vcOd9B9Ty2zkygyXwm98GMm8w1hmI//zKx0SM18KGZiwSAiLhLBICIuEsEgIi4SwSAiLhLBICIuEsEgIi4SwSAiLhLBICIuEsEgIi4SwSAiLhLBICIuEsEgIi4SwSAiLhLBICIuEsEgIi4SwSAiLhLBICIuEsEgIi4SwSAiLhLBICIuEsEgIi4SwSAiLhLBICIuEsEgIi4SwSAiLhLBICIuEsEj8C6J78Seo/ew6AAAAAElFTkSuQmCC\" alt=\"Mol\"/></td>\n",
       "    </tr>\n",
       "    <tr>\n",
       "      <th>4</th>\n",
       "      <td>2-ethyl-hexanoic acid (2EHA)</td>\n",
       "      <td><img src=\"data:image/png;base64,iVBORw0KGgoAAAANSUhEUgAAAMgAAADICAIAAAAiOjnJAAAEF0lEQVR4nO3c0XKbOABAUbyz///L3gfPumnaJHbMRUI5Z/rQdNoYoxuBKPhyvV432Ns/ozeANQmLhLBICIuEsEgIi4SwSAiLhLBICIuEsEgIi4SwSAiLhLBICIuEsEgIi4SwSAiLhLBICIuEsEgIi4SwSAiLhLBICIuEsEgIi4SwSAiLhLBICIuEsEgIi4SwSAiLhLBICIuEsEgIi4SwSAiLhLBICIuEsEgIi4SwSAiLhLBICIuEsEgIi4SwSAiLhLBICIuEsEgIi4SwSAiLhLBICIuEsP5wufz69fYP3/0dPvXv6A2YzOWyXa8ffsnDzFgkzFgPc/h7hrAe9u4QyaccCkkIa9s2M9D+xh0K347l2JXX26Xf9TrRhp3Z5Tpk302yqr81pJ7AlCfvx4y3a1SlKcO6jff9kFQMv6piU4Z1cx/4fScwh79DTBzW3Y4TmInqKGcI6+b3CeyybU8vO1R1oEGrwu2Dyw3PHKcu/3+HR97C5TLunf5IU+7uJ496t8I+eSOqOt7ce/zlCezL5ojMHdbNdycwE9VAp9r1z5y2q2qsU+79L0/bVTXcuQfgr6dQqprBea5j/c0toKeuO3CMc4d1c+/p4raqaSx1o9/1ejVpTWKpsG5uFxpGb8VPt2BYzEBYJIRFQlgkhEVCWCTWDMsVh+HWDIvhhEVCWPxmr1MIYfHLjnccrXB3A6/b/eEAYZHcGulQ+NNFN9wuG5ZLWY/obuNeNiy+lD4c4BzrJzrgOV5hjTHwEe1jnmIS1gD3oT0+r8OejRPWod6VdPDja0c+cSms43w0ru8eX4vG/uDneBd/aHiep6If35LdJ7Ah53NmrNyz4/rn87evNDHqR0tYrVfG9fVD5MAJe5YjRWTsB6/tO67PTmBjTwNWDmvgqn4rx/WRtzP85HLNsD76eKPbbw5Y1R/2Kn++0CSfjrlgWF/+sK60qt9+fzvDJ6q7WbZjLwNX9U+9+u4mmajulgrre+O6V2HzzBYzWGdfvD6ur6zqv/cPF7ZCWPuO67lW9dPaZ6cseRPIKVb109r/Ct5iN4FMvqqf1v4Ds+RNINusq/pphTtosctF99fdTFQPGHYoefEbGtrJHfdzf+qbQHjWgHE6400gPGvwf0FsLhctavxouVy0pFkGzOWixcwS1p3LRWuYdORMVGc3aVicnU+bISEsEsIiISwSwiIhLBLCIiEsEsIiISwSwiIhLBLCIiEsEsIiISwSwiIhLBLCIiEsEsIiISwSwiIhLBLCIiEsEsIiISwSwiIhLBLCIiEsEsIiISwSwiIhLBLCIiEsEsIiISwSwiIhLBLCIiEsEsIiISwSwiIhLBLCIiEsEsIiISwSwiIhLBLCIiEsEsIiISwSwiIhLBLCIiEsEsIiISwSwiLxH85j9UABEaIKAAAAAElFTkSuQmCC\" alt=\"Mol\"/></td>\n",
       "    </tr>\n",
       "  </tbody>\n",
       "</table>"
      ],
      "text/plain": [
       "                           name                                                                                                                                                                                                                                                                                                                                                                                                                                                                                                                                                                                                                                                                                                                                                                                                                                                                                                                                                                                                                                                                                                                                                                                                                                                                                                                                                                                                                                                                                                                                                                                                                            mol\n",
       "0   2,2-dimethyl-pentanoic acid  <img src=\"data:image/png;base64,iVBORw0KGgoAAAANSUhEUgAAAMgAAADICAIAAAAiOjnJAAAEOUlEQVR4nO3dXXPaOhSGUftM//9f9rlgSgjmw8V+pW2x1vSiSTsT133YkoC087IsExztv94XwJiERYSwiBAWEcIiQlhECIsIYREhLCKERYSwiBAWEcIiQlhECIsIYREhLCKERYSwiBAWEcIiQlhECIsIYREhLCKERYSwiBAWEcIiQlhECIsIYREhLCKERYSwiBAWEcIiQlhECIsIYREhLCKERYSwiBAWEcIiQlhECIsIYREhLCKERYSwiBAWEcIiQlhECIsIYREhLCL+9L4AMub55+fL0v7rC2tE8/wrprsPm7AUDmed0bL8GmBNCIsIYREhLCKERYSwhrPeqvc4FXq6YUR3bXkei8P0iOmWpZAIYQ2k+bOgLwiLCGHtNVeaEw90ujxhjaLHcwovCGuvZVmqD60ehDW0fmNMWEQIawjFNliTsA5hm7UmrHF1HWPCIkJY51dvgzUJ6yi2WXeEdXqPc+49xoRFhLDObZ7n5dFk6r4qC+swtlm3hDWgZ2OsJWERIawTqzCZnhHWkWyzrk4T1jzP/s62KDLGSn9f4W1Jl5tV5K7xVsWwrj2tG7qsNZXbanaFxe9DobBe9HSrfltM3cNaL3ZbaOuZOrelT1gbh9ML2rpuOqcdtzGnXVifDacXyraVvrBTnGniYe0fTi+UbSvh7Znm4S/1kgor2tOt4dvafqaZKo2uI8M6fLHbaLy2Pr6TdW7FMRdRYQ4XuaFXH1zPUWO+wq3ofwUHqnBDrzZeTGjMd3+oF3qCdL86C8Fb6T1o9y3XUGFNJc9Ht5qdaX6+SqfvqjjH4/sDFUbX5Rp6nWlur6N9W/3vfk7fthoPpzeat3Wa92N9oMvb7ua/Lj2VqGrq8B+AjTyxLhrMrReLXYUV+UfDuTXa5n0td1Sstdht0XAvP35Y09Ftna+nW63a+oqwpt1t9T/ZHahJW5V2AHn/2tYhw6nWNusq3Na3TKyLjXPr3IvdRuG59V1hTc/bGmqx2yj5xyw5pfOubbUZTkVXw6Svm1gXxV9SHMCXhjVJKmzkl3TqOMe/6TDPPz/uPr/+ne9878Til7sT4u4Do4nFo4x2v2gtLCIshY2c6G3TD/z79BIWG9w9HjZ0ZikkQljt1H3SYb1V330qtBQyTdOqrd17QWHx17OY1p/fkJ2lkAhhNVV3m3U0YREhLCKE1dqXrIbCIkJYRAirg29YDYVFhLCIEBYRwupj+G2WsIgQVjdnfZvyNsIiQlhECIsIYREhLCKERYSwiBAWEcIiQlhECIsIYREhLCKERYSwiBAWEcIiQlhECIsIYREhLCKERYSwiBAWEcIiQlhECIsIYREhLCKERYSwiBAWEcIiQlhECIsIYREhLCKERYSwiBAWEcIiQlhECIsIYREhLCKERYSwiBAWEcIiQlhECIsIYREhLCKERYSwiBAWEcIiQlhECIuI/wGPWMtvdnRfMwAAAABJRU5ErkJggg==\" alt=\"Mol\"/>\n",
       "1         2-butyl-hexanoic acid                                                                                                                                                                                                                                                                                                      <img src=\"data:image/png;base64,iVBORw0KGgoAAAANSUhEUgAAAMgAAADICAIAAAAiOjnJAAADX0lEQVR4nO3cwVLiQBRA0WRq/v+XMwtKCy0YQHPTJDln5UJ8dLg2IQrzsiwTrO3P6DvAMQmLhLBICIuEsEgIi4SwSAiLhLBICIuEsEgIi4SwSAiLhLBICIuEsEgIi4SwSAiLhLBICIuEsEgIi4SwSAiLhLBICIuEsEgIi4SwSAiLhLBICIuEsEgIi4SwSAiLhLBICIuEsEgIi4SwSAiLhLBICIuEsEgIi4SwSAiLhLBICIuEsEgIi4SwSAiLhLBICIuEsEgIi4SwSAiLhLBICIuEsEgIi4SwSAiLhLBICIuEsEgIi4SwSAiLhLBICIvE4LDmeT78xCFDhyzz2t9Rgy8rX5bl84vjTRwydMgyb9yN7QffXHB6FLafOGTokGXevTNbjny4yNWPwvYThwwdsswHd2mzYfP87Kznv3PFidNKx/3Nl7ndw73ls356k9/f/JfHfRfL3O5UL52xuwP34yI3Hjpkma+NSM9ed7rVv3Tcd73M8NEvfvQxTk7PcA7ebV0rh3W8l9NnuGqQ/Fqu9eOOfQHwDNc51x20g2frN5k4ZOh+Jw54ePZrSM075b8bSAiLhLBICIuEsEgIi4SwSAiLhLBICIuEsEgIi4SwSAiLhLBICIuEsEgIi4SwSAjrNcM/d2ovhPWay/ux5PXQsA9e26/LG3XGfqzZ+/N+pqfcy0he9wjrgafekTzPk8P4lbDuuvcZCnfbmiZ5fRLWLfM833+Ce7B1TfKaJmF993QZ8vo/YX34WQ3/Obs694mXsH69wdifbjn9dazf7yuXm8vrKzvWquT1wZ90VrUs07JM/uBz5LCuH93Pr+d5i0f92451GXqy2s50jjXkZdr10DO9Tjx0WCfbJN7KocO63irY1nHPsRjq0DvWN5+v17Y80bl+kXiaE6zJdSwingpJCIuEsEgIi4SwSAiLhLBICIuEsEgIi4SwSAiLhLBICIuEsEgIi4SwSAiLhLBICIuEsEgIi4SwSAiLhLBICIuEsEgIi4SwSAiLhLBICIuEsEgIi4SwSAiLhLBICIuEsEgIi4SwSAiLhLBICIuEsEgIi4SwSAiLhLBICIuEsEgIi4SwSAiLhLBICIuEsEgIi4SwSAiLhLBICIuEsEgIi4SwSAiLhLBICIuEsEgIi4SwSPwDvoWYb0+fAzEAAAAASUVORK5CYII=\" alt=\"Mol\"/>\n",
       "2             2-ethyl-1-hexanol                                                                                                                                                                                                              <img src=\"data:image/png;base64,iVBORw0KGgoAAAANSUhEUgAAAMgAAADICAIAAAAiOjnJAAADoklEQVR4nO3c0VLbOABAUWtn//+X3QemWUqXNqW+tqycM7zAZMCxbqREOBn7vm9wtH+uPgDWJCwSwiIhLBLCIiEsEsIiISwSwiIhLBLCIiEsEsIiISwSwiIhLBLCIiEsEsIiISwSwiIhLBLCIiEsEsIiISwSwiIhLBLCIiEsEsIiISwSwiIhLBLCIiEsEsIiISwSwiIhLBLCIiEsEsIiISwSwiIhLBLCIiEsEsIiISwSwiIhLBLCIiEsEsIiISwSwiIhLBLCIiEsEsIiISwSwiIhLBLCIiEsEsIiISwScVhjfPrtGP99sZx/r/mzY2z7/um33J+lkEQ/Y/3pSvd2exPYzfVhfVjynry9vG7uoudYvyWvm5s1rDfyuq2Lwtr3H5bFX0cjrxsa+72Gaoxt28a23eywX8/dwvpujLHJa2J3DevN+L6e3vpeLOneYT2YwGazSFhv5DWPpf6lI6l5LBUW81gtrH3fh+twJrBaWExCWCSERUJYJIRFYsGwvDCcwYJhMQNhkRAWCWGREBY/OOp1z5pheWH4NWMcdhnV3O/S4SyHX8omLI6cqB7WXAp5XlHVZsZ6ZemV3MJ6UdFE9bDsUjj5C8MxxoWHV1e1mbEu8RjXS95WdEJVm7BO9qGk93ltfWFndiys83w2VTx+mA78ORPVg7BO8sy4dhPYyVVtwjrHH43rhwls++vCzq9qW+wt9j+75JwefgxfXiIv/MwBM1boqHH92hJ57YPq+gd06sKHbDeuz9ypy6fqlcO6cLvohHH9bAKb5CN31gzrf0/umdtFJ0e8vVsuJxnQWY7jQL89uSttF73/u9sEE9XDamE9P66HT2CzDe21lgrra7PFIYXNswZNYp3Tce120TKn8SgrnJFj16B7bRdN65iTYruID448L7aLeDh+YGwXsaXPsWwXvbLLlpK//IWGdnLnPe5tF72UKy4Bs130Ai4bKttFa7t+tGwXLWmWAbNdtJhZwnqwXbSGSUfORHV3k4bF3S37oSBcS1gkhEVCWCSERUJYJIRFQlgkhEVCWCSERUJYJIRFQlgkhEVCWCSERUJYJIRFQlgkhEVCWCSERUJYJIRFQlgkhEVCWCSERUJYJIRFQlgkhEVCWCSERUJYJIRFQlgkhEVCWCSERUJYJIRFQlgkhEVCWCSERUJYJIRFQlgkhEVCWCSERUJYJIRFQlgkhEVCWCSERUJYJIRFQlgkhEVCWCSERUJYJIRFQlgkhEXiG61OqUvMx3rLAAAAAElFTkSuQmCC\" alt=\"Mol\"/>\n",
       "3   2-ethyl-butanoic acid (2EB)                                                                                          <img src=\"data:image/png;base64,iVBORw0KGgoAAAANSUhEUgAAAMgAAADICAIAAAAiOjnJAAAD+UlEQVR4nO3dzXLaSBhAUTOV939lZsGMixj/AOZK3a1zVqksTLe+i6RgAqfz+fwGr/bP3gtgTcIiISwSwiIhLBLCIiEsEsIiISwSwiIhLBLCIiEsEsIiISwSwiIhLBLCIiEsEsIiISwSwiIhLBLCIiEsEsIiISwSwiIhLBLCIiEsEsIiISwSwiIhLBLCIiEsEsIiISwSwiIhLBLCIiEsEsIiISwSwiIhLBLCIiEsEsIiISwSwiIhLBLCIiEsEsIiISwSwiIhLBLCIrFIWKfTae8lvMYyG/mz9wJ+6zKJ8/n8/oe9V/SkZTZycZp3A58OYMapLLORa1OG9eNBn2Uqy2zk1nxhnU73rnnwqTy0kWF38ZWZVvxcKANO5YmNDP4kuTXcQf/ULw/rOFNZZiM/Gj2sFx7KfaeyzEbuNHRYxVVsl6lEGxl6dmMurh7/ZlNJNzLyqWu4sDY7WBu0m/787R/oIWOFtf3pPZrKLhsZa5SDrMad9dQPfWv/sMY5HGu8FjDKMnZcwSCH4IMnrikDbmT3Je0W1mj3BNcemsrgG9ltvts/8O5Ppjut8RvivRa5aVhTTOKDNd7Tsv2CV3idcANrvAtvy8VvEdbIdyEPWWMj2+xii/e8LzCMlWwzjkX+MwWjERYJYZEQFglhkRAWCWGREBYJYZEQFglhkRAWCWGREBYJYZEQFglhkRAWCWGREBYJYZEQFglhkRAWCWGREBYJYZEQFglhkRAWCWGREBYJYZEQ1mOW+Zb5mrAec/l8W3n96M/eC5jP5TM8p/745A04Yz3pfD6/fzo3t4T1K66MX1nhg8s3cM/XnziS1xyOH9x/L+Wu65qwvnQdyv0nJHldCOsTL/hiptPp7dgHVlh/eeVXyV3u6I96eIX1n+rLL4+al7De3t6euXI9fGV8O1Zehw/rdyOX11cOHNbrxiyvW4cMKxrtQ9fT1fM6WFj1OB/9+eu+KnGYsLY8Q6x+NrrHAd42s/2YL4917LxWD2vHa82x8zrMpXBfx8tr9TPWII539ho+rNtr2Ye/uX6T3eAze8/r03VOtJE7DB/W924jG38kX1U13Ua+NfNbk2+P/vn81/N+Fsts5MrMYTGwGS6Fkz93j2mGsG5v3hmeSyGJmcO6vcOd9B9Ty2zkygyXwm98GMm8w1hmI//zKx0SM18KGZiwSAiLhLBICIuEsEgIi4SwSAiLhLBICIuEsEgIi4SwSAiLhLBICIuEsEgIi4SwSAiLhLBICIuEsEgIi4SwSAiLhLBICIuEsEgIi4SwSAiLhLBICIuEsEgIi4SwSAiLhLBICIuEsEgIi4SwSAiLhLBICIuEsEgIi4SwSAiLhLBICIuEsEj8C6J78Seo/ew6AAAAAElFTkSuQmCC\" alt=\"Mol\"/>\n",
       "4  2-ethyl-hexanoic acid (2EHA)                                                  <img src=\"data:image/png;base64,iVBORw0KGgoAAAANSUhEUgAAAMgAAADICAIAAAAiOjnJAAAEF0lEQVR4nO3c0XKbOABAUbyz///L3gfPumnaJHbMRUI5Z/rQdNoYoxuBKPhyvV432Ns/ozeANQmLhLBICIuEsEgIi4SwSAiLhLBICIuEsEgIi4SwSAiLhLBICIuEsEgIi4SwSAiLhLBICIuEsEgIi4SwSAiLhLBICIuEsEgIi4SwSAiLhLBICIuEsEgIi4SwSAiLhLBICIuEsEgIi4SwSAiLhLBICIuEsEgIi4SwSAiLhLBICIuEsEgIi4SwSAiLhLBICIuEsEgIi4SwSAiLhLBICIuEsP5wufz69fYP3/0dPvXv6A2YzOWyXa8ffsnDzFgkzFgPc/h7hrAe9u4QyaccCkkIa9s2M9D+xh0K347l2JXX26Xf9TrRhp3Z5Tpk302yqr81pJ7AlCfvx4y3a1SlKcO6jff9kFQMv6piU4Z1cx/4fScwh79DTBzW3Y4TmInqKGcI6+b3CeyybU8vO1R1oEGrwu2Dyw3PHKcu/3+HR97C5TLunf5IU+7uJ496t8I+eSOqOt7ce/zlCezL5ojMHdbNdycwE9VAp9r1z5y2q2qsU+79L0/bVTXcuQfgr6dQqprBea5j/c0toKeuO3CMc4d1c+/p4raqaSx1o9/1ejVpTWKpsG5uFxpGb8VPt2BYzEBYJIRFQlgkhEVCWCTWDMsVh+HWDIvhhEVCWPxmr1MIYfHLjnccrXB3A6/b/eEAYZHcGulQ+NNFN9wuG5ZLWY/obuNeNiy+lD4c4BzrJzrgOV5hjTHwEe1jnmIS1gD3oT0+r8OejRPWod6VdPDja0c+cSms43w0ru8eX4vG/uDneBd/aHiep6If35LdJ7Ah53NmrNyz4/rn87evNDHqR0tYrVfG9fVD5MAJe5YjRWTsB6/tO67PTmBjTwNWDmvgqn4rx/WRtzP85HLNsD76eKPbbw5Y1R/2Kn++0CSfjrlgWF/+sK60qt9+fzvDJ6q7WbZjLwNX9U+9+u4mmajulgrre+O6V2HzzBYzWGdfvD6ur6zqv/cPF7ZCWPuO67lW9dPaZ6cseRPIKVb109r/Ct5iN4FMvqqf1v4Ds+RNINusq/pphTtosctF99fdTFQPGHYoefEbGtrJHfdzf+qbQHjWgHE6400gPGvwf0FsLhctavxouVy0pFkGzOWixcwS1p3LRWuYdORMVGc3aVicnU+bISEsEsIiISwSwiIhLBLCIiEsEsIiISwSwiIhLBLCIiEsEsIiISwSwiIhLBLCIiEsEsIiISwSwiIhLBLCIiEsEsIiISwSwiIhLBLCIiEsEsIiISwSwiIhLBLCIiEsEsIiISwSwiIhLBLCIiEsEsIiISwSwiIhLBLCIiEsEsIiISwSwiIhLBLCIiEsEsIiISwSwiIhLBLCIiEsEsIiISwSwiLxH85j9UABEaIKAAAAAElFTkSuQmCC\" alt=\"Mol\"/>"
      ]
     },
     "execution_count": 18,
     "metadata": {},
     "output_type": "execute_result"
    }
   ],
   "source": [
    "cs_cmpds_df[['name', 'mol']].head()"
   ]
  },
  {
   "cell_type": "code",
   "execution_count": 19,
   "metadata": {
    "collapsed": true
   },
   "outputs": [],
   "source": [
    "cs_cmpds_df.to_pickle(os.path.join(data_dir, 'case_study_compounds.pkl'))\n",
    "\n",
    "# cs_cmpds_df.drop('mol', axis=1).to_excel('case_study_compounds_141216.xlsx', index=False)"
   ]
  },
  {
   "cell_type": "code",
   "execution_count": 20,
   "metadata": {
    "collapsed": true
   },
   "outputs": [],
   "source": [
    "# cs_cmpds_df = pd.read_pickle(os.path.join(data_dir, 'case_study_compounds.pkl'))\n",
    "\n",
    "# cs_cmpds_df.shape"
   ]
  }
 ],
 "metadata": {
  "kernelspec": {
   "display_name": "Python 3",
   "language": "python",
   "name": "python3"
  },
  "language_info": {
   "codemirror_mode": {
    "name": "ipython",
    "version": 3
   },
   "file_extension": ".py",
   "mimetype": "text/x-python",
   "name": "python",
   "nbconvert_exporter": "python",
   "pygments_lexer": "ipython3",
   "version": "3.5.2"
  }
 },
 "nbformat": 4,
 "nbformat_minor": 0
}
