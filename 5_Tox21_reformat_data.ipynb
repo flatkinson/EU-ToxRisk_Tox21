{
 "cells": [
  {
   "cell_type": "markdown",
   "metadata": {},
   "source": [
    "# Tox21 reformat data\n",
    "\n",
    "Reformat Tox21 data for export and visualization ( _e.g._ in [DataWarrior](http://www.openmolecules.org/datawarrior/) )."
   ]
  },
  {
   "cell_type": "code",
   "execution_count": 1,
   "metadata": {
    "collapsed": false
   },
   "outputs": [],
   "source": [
    "%run setup.py"
   ]
  },
  {
   "cell_type": "code",
   "execution_count": 2,
   "metadata": {
    "collapsed": true
   },
   "outputs": [],
   "source": [
    "from math import log10\n",
    "\n",
    "from functools import partial"
   ]
  },
  {
   "cell_type": "markdown",
   "metadata": {},
   "source": [
    "### Config"
   ]
  },
  {
   "cell_type": "code",
   "execution_count": 3,
   "metadata": {
    "collapsed": true
   },
   "outputs": [],
   "source": [
    "# Endpoint columns (ordered)...\n",
    "\n",
    "endpoint_cols = ['Summary', 'Activity', 'Potency (uM)', 'Efficacy (%)', 'Viability Activity', 'Viability Potency (uM)', 'Viability Efficacy (%)']"
   ]
  },
  {
   "cell_type": "code",
   "execution_count": 4,
   "metadata": {
    "collapsed": true
   },
   "outputs": [],
   "source": [
    "# Categories for the hit-call enpoints...\n",
    "\n",
    "summary_categories =  ['active agonist', 'inconclusive agonist', 'inconclusive agonist (cytotoxic)', 'inconclusive agonist (fluorescent)', 'active antagonist', 'inconclusive antagonist', 'inconclusive antagonist (cytotoxic)', 'inconclusive', 'inactive']\n",
    "\n",
    "activity_categories = ['active agonist', 'inconclusive agonist',                                                                           'active antagonist', 'inconclusive antagonist',                                        'inconclusive', 'inactive']"
   ]
  },
  {
   "cell_type": "code",
   "execution_count": 5,
   "metadata": {
    "collapsed": true
   },
   "outputs": [],
   "source": [
    "# Directory for reading and writing data files...\n",
    "\n",
    "data_dir = 'data'"
   ]
  },
  {
   "cell_type": "code",
   "execution_count": 6,
   "metadata": {
    "collapsed": false
   },
   "outputs": [],
   "source": [
    "tick, cross = '\\u2713', '\\u2717'"
   ]
  },
  {
   "cell_type": "markdown",
   "metadata": {},
   "source": [
    "### Initialisation"
   ]
  },
  {
   "cell_type": "code",
   "execution_count": 7,
   "metadata": {
    "collapsed": false
   },
   "outputs": [],
   "source": [
    "if not 'logger' in locals(): logger = make_logger.run(__name__)"
   ]
  },
  {
   "cell_type": "code",
   "execution_count": 8,
   "metadata": {
    "collapsed": true
   },
   "outputs": [],
   "source": [
    "# Utility function to reorder dataframe columns...\n",
    "\n",
    "def insert_column_after(df, col0, col1):\n",
    "    cols = df.columns.tolist()\n",
    "    cols.remove(col1)\n",
    "    cols.insert(cols.index(col0)+1, col1)\n",
    "    return df[cols]"
   ]
  },
  {
   "cell_type": "markdown",
   "metadata": {},
   "source": [
    "### Reload Tox21 data\n",
    "\n",
    "See [here](4_Tox21_get_data.ipynb) for details of the data-retrieval procedure."
   ]
  },
  {
   "cell_type": "code",
   "execution_count": 9,
   "metadata": {
    "collapsed": false
   },
   "outputs": [
    {
     "data": {
      "text/plain": [
       "(1694115, 5)"
      ]
     },
     "execution_count": 9,
     "metadata": {},
     "output_type": "execute_result"
    }
   ],
   "source": [
    "tox21_data_df = pd.read_pickle(os.path.join(data_dir, 'tox21_data.pkl'))\n",
    "\n",
    "tox21_data_df.shape"
   ]
  },
  {
   "cell_type": "code",
   "execution_count": 10,
   "metadata": {
    "collapsed": false
   },
   "outputs": [
    {
     "data": {
      "text/html": [
       "<table border=\"1\" class=\"dataframe\">\n",
       "  <thead>\n",
       "    <tr style=\"text-align: right;\">\n",
       "      <th></th>\n",
       "      <th>AID</th>\n",
       "      <th>SID</th>\n",
       "      <th>endpoint</th>\n",
       "      <th>value</th>\n",
       "      <th>dtype</th>\n",
       "    </tr>\n",
       "  </thead>\n",
       "  <tbody>\n",
       "    <tr>\n",
       "      <th>0</th>\n",
       "      <td>743228</td>\n",
       "      <td>144206330</td>\n",
       "      <td>Summary</td>\n",
       "      <td>inactive</td>\n",
       "      <td>sval</td>\n",
       "    </tr>\n",
       "  </tbody>\n",
       "</table>"
      ],
      "text/plain": [
       "      AID        SID endpoint     value dtype\n",
       "0  743228  144206330  Summary  inactive  sval"
      ]
     },
     "execution_count": 10,
     "metadata": {},
     "output_type": "execute_result"
    }
   ],
   "source": [
    "tox21_data_df.head(1)"
   ]
  },
  {
   "cell_type": "markdown",
   "metadata": {},
   "source": [
    "### Reformat data\n",
    "\n",
    "Pivot data table to create columns for the individual endpoints..."
   ]
  },
  {
   "cell_type": "code",
   "execution_count": 11,
   "metadata": {
    "collapsed": false
   },
   "outputs": [
    {
     "data": {
      "text/plain": [
       "(346670, 9)"
      ]
     },
     "execution_count": 11,
     "metadata": {},
     "output_type": "execute_result"
    }
   ],
   "source": [
    "index_cols = ['AID', 'SID']\n",
    "\n",
    "pivoted_df = (\n",
    "    tox21_data_df.pivot_table(index=index_cols, columns=['endpoint'], values=['value'], aggfunc='first')\n",
    "     .reset_index()\n",
    "     .fillna('')\n",
    ")\n",
    "\n",
    "pivoted_df.shape"
   ]
  },
  {
   "cell_type": "code",
   "execution_count": 12,
   "metadata": {
    "collapsed": false
   },
   "outputs": [
    {
     "data": {
      "text/html": [
       "<table border=\"1\" class=\"dataframe\">\n",
       "  <thead>\n",
       "    <tr>\n",
       "      <th></th>\n",
       "      <th>AID</th>\n",
       "      <th>SID</th>\n",
       "      <th colspan=\"7\" halign=\"left\">value</th>\n",
       "    </tr>\n",
       "    <tr>\n",
       "      <th>endpoint</th>\n",
       "      <th></th>\n",
       "      <th></th>\n",
       "      <th>Activity</th>\n",
       "      <th>Efficacy (%)</th>\n",
       "      <th>Potency (uM)</th>\n",
       "      <th>Summary</th>\n",
       "      <th>Viability Activity</th>\n",
       "      <th>Viability Efficacy (%)</th>\n",
       "      <th>Viability Potency (uM)</th>\n",
       "    </tr>\n",
       "  </thead>\n",
       "  <tbody>\n",
       "    <tr>\n",
       "      <th>0</th>\n",
       "      <td>720516</td>\n",
       "      <td>144203552</td>\n",
       "      <td>inactive</td>\n",
       "      <td>0</td>\n",
       "      <td></td>\n",
       "      <td>inactive</td>\n",
       "      <td>inactive</td>\n",
       "      <td>0</td>\n",
       "      <td></td>\n",
       "    </tr>\n",
       "  </tbody>\n",
       "</table>"
      ],
      "text/plain": [
       "             AID        SID     value                                                                                                     \n",
       "endpoint                     Activity Efficacy (%) Potency (uM)   Summary Viability Activity Viability Efficacy (%) Viability Potency (uM)\n",
       "0         720516  144203552  inactive            0               inactive           inactive                      0                       "
      ]
     },
     "execution_count": 12,
     "metadata": {},
     "output_type": "execute_result"
    }
   ],
   "source": [
    "pivoted_df.head(1)"
   ]
  },
  {
   "cell_type": "code",
   "execution_count": 13,
   "metadata": {
    "collapsed": false
   },
   "outputs": [],
   "source": [
    "# Reformat column headers...\n",
    "\n",
    "n_index_cols = len(index_cols)\n",
    "\n",
    "pivoted_df.columns = pivoted_df.columns.droplevel(1).tolist()[:n_index_cols] + pivoted_df.columns.droplevel(0).tolist()[n_index_cols:]\n",
    "\n",
    "# Reorder columns...\n",
    "\n",
    "pivoted_df = pivoted_df[index_cols + endpoint_cols]"
   ]
  },
  {
   "cell_type": "code",
   "execution_count": 14,
   "metadata": {
    "collapsed": false
   },
   "outputs": [
    {
     "data": {
      "text/html": [
       "<table border=\"1\" class=\"dataframe\">\n",
       "  <thead>\n",
       "    <tr style=\"text-align: right;\">\n",
       "      <th></th>\n",
       "      <th>AID</th>\n",
       "      <th>SID</th>\n",
       "      <th>Summary</th>\n",
       "      <th>Activity</th>\n",
       "      <th>Potency (uM)</th>\n",
       "      <th>Efficacy (%)</th>\n",
       "      <th>Viability Activity</th>\n",
       "      <th>Viability Potency (uM)</th>\n",
       "      <th>Viability Efficacy (%)</th>\n",
       "    </tr>\n",
       "  </thead>\n",
       "  <tbody>\n",
       "    <tr>\n",
       "      <th>0</th>\n",
       "      <td>720516</td>\n",
       "      <td>144203552</td>\n",
       "      <td>inactive</td>\n",
       "      <td>inactive</td>\n",
       "      <td></td>\n",
       "      <td>0</td>\n",
       "      <td>inactive</td>\n",
       "      <td></td>\n",
       "      <td>0</td>\n",
       "    </tr>\n",
       "  </tbody>\n",
       "</table>"
      ],
      "text/plain": [
       "      AID        SID   Summary  Activity Potency (uM) Efficacy (%) Viability Activity Viability Potency (uM) Viability Efficacy (%)\n",
       "0  720516  144203552  inactive  inactive                         0           inactive                                             0"
      ]
     },
     "execution_count": 14,
     "metadata": {},
     "output_type": "execute_result"
    }
   ],
   "source": [
    "pivoted_df.head(1)"
   ]
  },
  {
   "cell_type": "markdown",
   "metadata": {},
   "source": [
    "###  Column types\n",
    "\n",
    "Modify column types where necessary."
   ]
  },
  {
   "cell_type": "code",
   "execution_count": 15,
   "metadata": {
    "collapsed": false
   },
   "outputs": [
    {
     "data": {
      "text/plain": [
       "AID                        int64\n",
       "SID                        int64\n",
       "Summary                   object\n",
       "Activity                  object\n",
       "Potency (uM)              object\n",
       "Efficacy (%)              object\n",
       "Viability Activity        object\n",
       "Viability Potency (uM)    object\n",
       "Viability Efficacy (%)    object\n",
       "dtype: object"
      ]
     },
     "execution_count": 15,
     "metadata": {},
     "output_type": "execute_result"
    }
   ],
   "source": [
    "pivoted_df.dtypes"
   ]
  },
  {
   "cell_type": "markdown",
   "metadata": {},
   "source": [
    "#### Numeric columns\n",
    "\n",
    "Convert numeric ( _i.e._ the Potency and Efficacy ) columns from object to float..."
   ]
  },
  {
   "cell_type": "code",
   "execution_count": 16,
   "metadata": {
    "collapsed": false
   },
   "outputs": [],
   "source": [
    "def to_float(x):\n",
    "    \n",
    "    try:\n",
    "        \n",
    "        return np.float64(x)\n",
    "        \n",
    "    except ValueError as exception:\n",
    "        \n",
    "        return np.nan\n",
    "    \n",
    "for col in pivoted_df.columns[pivoted_df.columns.str.contains('|'.join(re.escape(x) for x in ['Potency (uM)', 'Efficacy (%)']))]:\n",
    "    \n",
    "    pivoted_df[col] = pivoted_df[col].apply(to_float)"
   ]
  },
  {
   "cell_type": "markdown",
   "metadata": {
    "collapsed": true
   },
   "source": [
    "#### Hit calls\n",
    "\n",
    "Set the various hit-call columns to be ordered categorical variables, so that their (non-alphabetical) ordering is preseved..."
   ]
  },
  {
   "cell_type": "code",
   "execution_count": 17,
   "metadata": {
    "collapsed": false
   },
   "outputs": [],
   "source": [
    "pivoted_df['Summary'] = pivoted_df['Summary'].astype('category', categories=summary_categories, ordered=True)\n",
    "\n",
    "for col in pivoted_df.columns[pivoted_df.columns.str.contains('Activity')]:\n",
    "    \n",
    "    pivoted_df[col] = pivoted_df[col].astype('category', categories=activity_categories, ordered=True)"
   ]
  },
  {
   "cell_type": "code",
   "execution_count": 18,
   "metadata": {
    "collapsed": false
   },
   "outputs": [
    {
     "data": {
      "text/plain": [
       "AID                          int64\n",
       "SID                          int64\n",
       "Summary                   category\n",
       "Activity                  category\n",
       "Potency (uM)               float64\n",
       "Efficacy (%)               float64\n",
       "Viability Activity        category\n",
       "Viability Potency (uM)     float64\n",
       "Viability Efficacy (%)     float64\n",
       "dtype: object"
      ]
     },
     "execution_count": 18,
     "metadata": {},
     "output_type": "execute_result"
    }
   ],
   "source": [
    "pivoted_df.dtypes"
   ]
  },
  {
   "cell_type": "markdown",
   "metadata": {},
   "source": [
    "### Data modification\n",
    "\n",
    "Some data modification to enable easier visualization in DataWarrior."
   ]
  },
  {
   "cell_type": "code",
   "execution_count": 19,
   "metadata": {
    "collapsed": false
   },
   "outputs": [
    {
     "data": {
      "text/plain": [
       "(346670, 11)"
      ]
     },
     "execution_count": 19,
     "metadata": {},
     "output_type": "execute_result"
    }
   ],
   "source": [
    "# Add AC50 columns for the dose-response (i.e. 'Potency') columns...\n",
    "\n",
    "potency_to_ac50 = lambda x: -log10(x/10**6)\n",
    "\n",
    "pattern = re.escape('Potency (uM)')\n",
    "\n",
    "for potency_col in pivoted_df.columns[pivoted_df.columns.str.contains(pattern)]:\n",
    "    \n",
    "    ac50_col = re.sub(pattern, 'AC50', potency_col)\n",
    "        \n",
    "    pivoted_df[ac50_col] = pivoted_df[potency_col].apply(potency_to_ac50)\n",
    "    \n",
    "    pivoted_df = insert_column_after(pivoted_df, potency_col, ac50_col)\n",
    "    \n",
    "pivoted_df.shape"
   ]
  },
  {
   "cell_type": "code",
   "execution_count": 20,
   "metadata": {
    "collapsed": false
   },
   "outputs": [
    {
     "data": {
      "text/html": [
       "<table border=\"1\" class=\"dataframe\">\n",
       "  <thead>\n",
       "    <tr style=\"text-align: right;\">\n",
       "      <th></th>\n",
       "      <th>AID</th>\n",
       "      <th>SID</th>\n",
       "      <th>Summary</th>\n",
       "      <th>Activity</th>\n",
       "      <th>Potency (uM)</th>\n",
       "      <th>AC50</th>\n",
       "      <th>Efficacy (%)</th>\n",
       "      <th>Viability Activity</th>\n",
       "      <th>Viability Potency (uM)</th>\n",
       "      <th>Viability AC50</th>\n",
       "      <th>Viability Efficacy (%)</th>\n",
       "    </tr>\n",
       "  </thead>\n",
       "  <tbody>\n",
       "    <tr>\n",
       "      <th>0</th>\n",
       "      <td>720516</td>\n",
       "      <td>144203552</td>\n",
       "      <td>inactive</td>\n",
       "      <td>inactive</td>\n",
       "      <td>NaN</td>\n",
       "      <td>NaN</td>\n",
       "      <td>0.0</td>\n",
       "      <td>inactive</td>\n",
       "      <td>NaN</td>\n",
       "      <td>NaN</td>\n",
       "      <td>0.0</td>\n",
       "    </tr>\n",
       "  </tbody>\n",
       "</table>"
      ],
      "text/plain": [
       "      AID        SID   Summary  Activity  Potency (uM)  AC50  Efficacy (%) Viability Activity  Viability Potency (uM)  Viability AC50  Viability Efficacy (%)\n",
       "0  720516  144203552  inactive  inactive           NaN   NaN           0.0           inactive                     NaN             NaN                     0.0"
      ]
     },
     "execution_count": 20,
     "metadata": {},
     "output_type": "execute_result"
    }
   ],
   "source": [
    "pivoted_df.head(1)"
   ]
  },
  {
   "cell_type": "code",
   "execution_count": 21,
   "metadata": {
    "collapsed": false
   },
   "outputs": [
    {
     "name": "stdout",
     "output_type": "stream",
     "text": [
      "Efficacy (%)             : 1065 HIGH,   23 LOW\n",
      "Viability Efficacy (%)   :  190 HIGH,    1 LOW\n"
     ]
    }
   ],
   "source": [
    "# There are some excessively high and low Efficacy values, which can make visualization difficult...\n",
    "\n",
    "max_efficacy, min_efficacy = 200.0, -200.0\n",
    "\n",
    "efficacy_cols = pivoted_df.columns[pivoted_df.columns.str.contains(re.escape('Efficacy (%)'))]\n",
    "\n",
    "for col in efficacy_cols:\n",
    "    \n",
    "    print(\"{:<25s}: {:4d} HIGH, {:4d} LOW\".format(col, (pivoted_df[col] > max_efficacy).sum(), (pivoted_df[col] < min_efficacy).sum()))"
   ]
  },
  {
   "cell_type": "code",
   "execution_count": 22,
   "metadata": {
    "collapsed": false
   },
   "outputs": [
    {
     "name": "stdout",
     "output_type": "stream",
     "text": [
      "Efficacy (%)             :    0 HIGH,    0 LOW\n",
      "Viability Efficacy (%)   :    0 HIGH,    0 LOW\n"
     ]
    }
   ],
   "source": [
    "# Trim the excessive Efficacy values..\n",
    "\n",
    "trimmer = lambda x: partial(max, min_efficacy)(partial(min, max_efficacy)(x))\n",
    "\n",
    "for col in efficacy_cols:\n",
    "    \n",
    "    pivoted_df[col] = pivoted_df[col].apply(trimmer)\n",
    "    \n",
    "for col in efficacy_cols:\n",
    "    \n",
    "    print(\"{:<25s}: {:4d} HIGH, {:4d} LOW\".format(col, (pivoted_df[col] > max_efficacy).sum(), (pivoted_df[col] < min_efficacy).sum()))"
   ]
  },
  {
   "cell_type": "code",
   "execution_count": 23,
   "metadata": {
    "collapsed": false
   },
   "outputs": [],
   "source": [
    "# Prepend category code (a number) to string value of categorical variables to preserve ordering one exported as string...\n",
    "\n",
    "hit_call_cols = ['Summary', 'Activity', 'Viability Activity']\n",
    "\n",
    "for col in hit_call_cols:\n",
    "    \n",
    "    pivoted_df[col] = [\"{}) {}\".format(x, y) if type(y) == str else '' for x, y in zip(pivoted_df[col].cat.codes, pivoted_df[col])]"
   ]
  },
  {
   "cell_type": "code",
   "execution_count": 24,
   "metadata": {
    "collapsed": false,
    "scrolled": true
   },
   "outputs": [
    {
     "data": {
      "text/html": [
       "<table border=\"1\" class=\"dataframe\">\n",
       "  <thead>\n",
       "    <tr style=\"text-align: right;\">\n",
       "      <th></th>\n",
       "      <th>AID</th>\n",
       "      <th>SID</th>\n",
       "      <th>Summary</th>\n",
       "      <th>Activity</th>\n",
       "      <th>Potency (uM)</th>\n",
       "      <th>AC50</th>\n",
       "      <th>Efficacy (%)</th>\n",
       "      <th>Viability Activity</th>\n",
       "      <th>Viability Potency (uM)</th>\n",
       "      <th>Viability AC50</th>\n",
       "      <th>Viability Efficacy (%)</th>\n",
       "    </tr>\n",
       "  </thead>\n",
       "  <tbody>\n",
       "    <tr>\n",
       "      <th>0</th>\n",
       "      <td>720516</td>\n",
       "      <td>144203552</td>\n",
       "      <td>8) inactive</td>\n",
       "      <td>5) inactive</td>\n",
       "      <td>NaN</td>\n",
       "      <td>NaN</td>\n",
       "      <td>0.0</td>\n",
       "      <td>5) inactive</td>\n",
       "      <td>NaN</td>\n",
       "      <td>NaN</td>\n",
       "      <td>0.0</td>\n",
       "    </tr>\n",
       "  </tbody>\n",
       "</table>"
      ],
      "text/plain": [
       "      AID        SID      Summary     Activity  Potency (uM)  AC50  Efficacy (%) Viability Activity  Viability Potency (uM)  Viability AC50  Viability Efficacy (%)\n",
       "0  720516  144203552  8) inactive  5) inactive           NaN   NaN           0.0        5) inactive                     NaN             NaN                     0.0"
      ]
     },
     "execution_count": 24,
     "metadata": {},
     "output_type": "execute_result"
    }
   ],
   "source": [
    "pivoted_df.head(1)"
   ]
  },
  {
   "cell_type": "markdown",
   "metadata": {},
   "source": [
    "### Compound structures\n",
    "\n",
    "Add compound structures (as SMILES).\n",
    "\n",
    "See [here](1_Tox21_compounds.ipynb) for further details on the Tox21 compounds."
   ]
  },
  {
   "cell_type": "code",
   "execution_count": 25,
   "metadata": {
    "collapsed": false
   },
   "outputs": [
    {
     "data": {
      "text/plain": [
       "(14252, 5)"
      ]
     },
     "execution_count": 25,
     "metadata": {},
     "output_type": "execute_result"
    }
   ],
   "source": [
    "# Load SID-to-structure mapping table (keeping only required colummns)...\n",
    "\n",
    "sid_mols_df = pd.read_pickle(os.path.join(data_dir, 'sid_mols.pkl')).drop(['inchi', 'mol'], axis=1)\n",
    "\n",
    "sid_mols_df.shape"
   ]
  },
  {
   "cell_type": "code",
   "execution_count": 26,
   "metadata": {
    "collapsed": false
   },
   "outputs": [
    {
     "data": {
      "text/html": [
       "<table border=\"1\" class=\"dataframe\">\n",
       "  <thead>\n",
       "    <tr style=\"text-align: right;\">\n",
       "      <th></th>\n",
       "      <th>SID</th>\n",
       "      <th>CID</th>\n",
       "      <th>parent_CID</th>\n",
       "      <th>smiles</th>\n",
       "      <th>inchikey</th>\n",
       "    </tr>\n",
       "  </thead>\n",
       "  <tbody>\n",
       "    <tr>\n",
       "      <th>0</th>\n",
       "      <td>312345403</td>\n",
       "      <td>6436006</td>\n",
       "      <td>5365247</td>\n",
       "      <td>CN(C)C/C=C(/C1=CC=C(C=C1)Br)\\C2=CN=CC=C2</td>\n",
       "      <td>OYPPVKRFBIWMSX-SXGWCWSVSA-N</td>\n",
       "    </tr>\n",
       "  </tbody>\n",
       "</table>"
      ],
      "text/plain": [
       "         SID      CID  parent_CID                                    smiles                     inchikey\n",
       "0  312345403  6436006     5365247  CN(C)C/C=C(/C1=CC=C(C=C1)Br)\\C2=CN=CC=C2  OYPPVKRFBIWMSX-SXGWCWSVSA-N"
      ]
     },
     "execution_count": 26,
     "metadata": {},
     "output_type": "execute_result"
    }
   ],
   "source": [
    "sid_mols_df.head(1)"
   ]
  },
  {
   "cell_type": "markdown",
   "metadata": {},
   "source": [
    "Note that a small number of SIDs (187) do not have structures, and hence do not appear in the structure table 'sid_mols_df'..."
   ]
  },
  {
   "cell_type": "code",
   "execution_count": 27,
   "metadata": {
    "collapsed": false
   },
   "outputs": [
    {
     "data": {
      "text/plain": [
       "187"
      ]
     },
     "execution_count": 27,
     "metadata": {},
     "output_type": "execute_result"
    }
   ],
   "source": [
    "df = pivoted_df.merge(sid_mols_df, on='SID')\n",
    "\n",
    "df[df['inchikey'].isnull()]['SID'].unique().size"
   ]
  },
  {
   "cell_type": "markdown",
   "metadata": {},
   "source": [
    "The pivoted data is thus joined to the structure table using an inner join; records without an associated structure are lost, but as there is no structure it is unlikely to be missed."
   ]
  },
  {
   "cell_type": "code",
   "execution_count": 28,
   "metadata": {
    "collapsed": false
   },
   "outputs": [
    {
     "data": {
      "text/plain": [
       "(341566, 15)"
      ]
     },
     "execution_count": 28,
     "metadata": {},
     "output_type": "execute_result"
    }
   ],
   "source": [
    "pivoted_df = pivoted_df.merge(sid_mols_df, on='SID', how='inner')\n",
    "\n",
    "pivoted_df.shape"
   ]
  },
  {
   "cell_type": "code",
   "execution_count": 29,
   "metadata": {
    "collapsed": false
   },
   "outputs": [
    {
     "data": {
      "text/html": [
       "<table border=\"1\" class=\"dataframe\">\n",
       "  <thead>\n",
       "    <tr style=\"text-align: right;\">\n",
       "      <th></th>\n",
       "      <th>AID</th>\n",
       "      <th>SID</th>\n",
       "      <th>Summary</th>\n",
       "      <th>Activity</th>\n",
       "      <th>Potency (uM)</th>\n",
       "      <th>AC50</th>\n",
       "      <th>Efficacy (%)</th>\n",
       "      <th>Viability Activity</th>\n",
       "      <th>Viability Potency (uM)</th>\n",
       "      <th>Viability AC50</th>\n",
       "      <th>Viability Efficacy (%)</th>\n",
       "      <th>CID</th>\n",
       "      <th>parent_CID</th>\n",
       "      <th>smiles</th>\n",
       "      <th>inchikey</th>\n",
       "    </tr>\n",
       "  </thead>\n",
       "  <tbody>\n",
       "    <tr>\n",
       "      <th>0</th>\n",
       "      <td>720516</td>\n",
       "      <td>144203552</td>\n",
       "      <td>8) inactive</td>\n",
       "      <td>5) inactive</td>\n",
       "      <td>NaN</td>\n",
       "      <td>NaN</td>\n",
       "      <td>0.0</td>\n",
       "      <td>5) inactive</td>\n",
       "      <td>NaN</td>\n",
       "      <td>NaN</td>\n",
       "      <td>0.0</td>\n",
       "      <td>12850184</td>\n",
       "      <td>5460352</td>\n",
       "      <td>C(C(=O)[C@H]([C@@H]([C@H](C(=O)O)O)O)O)O</td>\n",
       "      <td>IZSRJDGCGRAUAR-MROZADKFSA-N</td>\n",
       "    </tr>\n",
       "  </tbody>\n",
       "</table>"
      ],
      "text/plain": [
       "      AID        SID      Summary     Activity  Potency (uM)  AC50  Efficacy (%) Viability Activity  Viability Potency (uM)  Viability AC50  Viability Efficacy (%)       CID  parent_CID                                    smiles                     inchikey\n",
       "0  720516  144203552  8) inactive  5) inactive           NaN   NaN           0.0        5) inactive                     NaN             NaN                     0.0  12850184     5460352  C(C(=O)[C@H]([C@@H]([C@H](C(=O)O)O)O)O)O  IZSRJDGCGRAUAR-MROZADKFSA-N"
      ]
     },
     "execution_count": 29,
     "metadata": {},
     "output_type": "execute_result"
    }
   ],
   "source": [
    "pivoted_df.head(1)"
   ]
  },
  {
   "cell_type": "markdown",
   "metadata": {},
   "source": [
    "### Case study info\n",
    "\n",
    "Add case study information.\n",
    "\n",
    "See [here](Tox21_PubChem_vs_case_study_compounds.ipynb) for further details on the modified version of the case study compounds table."
   ]
  },
  {
   "cell_type": "code",
   "execution_count": 30,
   "metadata": {
    "collapsed": false
   },
   "outputs": [
    {
     "data": {
      "text/plain": [
       "(176, 9)"
      ]
     },
     "execution_count": 30,
     "metadata": {},
     "output_type": "execute_result"
    }
   ],
   "source": [
    "# Load the modified version of the case study compounds table...\n",
    "\n",
    "cs_cmpds_df = pd.read_pickle(os.path.join(data_dir, 'case_study_compounds_2.pkl'))\n",
    "\n",
    "cs_cmpds_df.shape"
   ]
  },
  {
   "cell_type": "code",
   "execution_count": 31,
   "metadata": {
    "collapsed": false
   },
   "outputs": [
    {
     "data": {
      "text/html": [
       "<table border=\"1\" class=\"dataframe\">\n",
       "  <thead>\n",
       "    <tr style=\"text-align: right;\">\n",
       "      <th></th>\n",
       "      <th>inchikey</th>\n",
       "      <th>name</th>\n",
       "      <th>Case Study 1</th>\n",
       "      <th>Case Study 2</th>\n",
       "      <th>Case Study 3</th>\n",
       "      <th>Case Study 4</th>\n",
       "      <th>Case Study 5</th>\n",
       "      <th>Case Study 6</th>\n",
       "      <th>Case Study 7</th>\n",
       "    </tr>\n",
       "  </thead>\n",
       "  <tbody>\n",
       "    <tr>\n",
       "      <th>0</th>\n",
       "      <td>ZRYCZAWRXHAAPZ-UHFFFAOYSA-N</td>\n",
       "      <td>2,2-dimethyl-pentanoic acid</td>\n",
       "      <td>✗</td>\n",
       "      <td>✓</td>\n",
       "      <td>✗</td>\n",
       "      <td>✗</td>\n",
       "      <td>✗</td>\n",
       "      <td>✗</td>\n",
       "      <td>✗</td>\n",
       "    </tr>\n",
       "  </tbody>\n",
       "</table>"
      ],
      "text/plain": [
       "                      inchikey                         name Case Study 1 Case Study 2 Case Study 3 Case Study 4 Case Study 5 Case Study 6 Case Study 7\n",
       "0  ZRYCZAWRXHAAPZ-UHFFFAOYSA-N  2,2-dimethyl-pentanoic acid            ✗            ✓            ✗            ✗            ✗            ✗            ✗"
      ]
     },
     "execution_count": 31,
     "metadata": {},
     "output_type": "execute_result"
    }
   ],
   "source": [
    "cs_cmpds_df.head(1)"
   ]
  },
  {
   "cell_type": "code",
   "execution_count": 32,
   "metadata": {
    "collapsed": true
   },
   "outputs": [],
   "source": [
    "# Add an 'Any Case Study' column for convenience...\n",
    "\n",
    "cs_cmpds_df['Any Case Study'] = tick\n",
    "\n",
    "cs_cmpds_df = insert_column_after(cs_cmpds_df, 'name', 'Any Case Study')"
   ]
  },
  {
   "cell_type": "code",
   "execution_count": 33,
   "metadata": {
    "collapsed": false
   },
   "outputs": [
    {
     "data": {
      "text/plain": [
       "(341566, 24)"
      ]
     },
     "execution_count": 33,
     "metadata": {},
     "output_type": "execute_result"
    }
   ],
   "source": [
    "pivoted_df = pivoted_df.merge(cs_cmpds_df, on='inchikey', how='left')\n",
    "\n",
    "pivoted_df.shape"
   ]
  },
  {
   "cell_type": "code",
   "execution_count": 34,
   "metadata": {
    "collapsed": false
   },
   "outputs": [],
   "source": [
    "# Make the cases study compound name column less ambiguous...\n",
    "\n",
    "pivoted_df.rename(columns={'name': 'Compound Name'}, inplace=True)"
   ]
  },
  {
   "cell_type": "code",
   "execution_count": 35,
   "metadata": {
    "collapsed": false
   },
   "outputs": [],
   "source": [
    "# Fix missing values introduced by joins...\n",
    "\n",
    "pivoted_df['Compound Name'].fillna('', inplace=True)\n",
    "\n",
    "for col in pivoted_df.columns[pivoted_df.columns.str.match('^(?:Any Case Study|Case Study \\d+)$')]:\n",
    "    \n",
    "    pivoted_df[col].fillna(cross, inplace=True)    "
   ]
  },
  {
   "cell_type": "code",
   "execution_count": 36,
   "metadata": {
    "collapsed": true
   },
   "outputs": [],
   "source": [
    "# Add a numeric version of 'Any Case Study' to allow sizing by case study membership in DataWarrior...\n",
    "\n",
    "pivoted_df['ACS'] = pivoted_df['Any Case Study'].apply(lambda x: 1 if x == tick else 0)"
   ]
  },
  {
   "cell_type": "code",
   "execution_count": 37,
   "metadata": {
    "collapsed": false
   },
   "outputs": [
    {
     "data": {
      "text/html": [
       "<table border=\"1\" class=\"dataframe\">\n",
       "  <thead>\n",
       "    <tr style=\"text-align: right;\">\n",
       "      <th></th>\n",
       "      <th>AID</th>\n",
       "      <th>SID</th>\n",
       "      <th>Summary</th>\n",
       "      <th>Activity</th>\n",
       "      <th>Potency (uM)</th>\n",
       "      <th>AC50</th>\n",
       "      <th>Efficacy (%)</th>\n",
       "      <th>Viability Activity</th>\n",
       "      <th>Viability Potency (uM)</th>\n",
       "      <th>Viability AC50</th>\n",
       "      <th>Viability Efficacy (%)</th>\n",
       "      <th>CID</th>\n",
       "      <th>parent_CID</th>\n",
       "      <th>smiles</th>\n",
       "      <th>inchikey</th>\n",
       "      <th>Compound Name</th>\n",
       "      <th>Any Case Study</th>\n",
       "      <th>Case Study 1</th>\n",
       "      <th>Case Study 2</th>\n",
       "      <th>Case Study 3</th>\n",
       "      <th>Case Study 4</th>\n",
       "      <th>Case Study 5</th>\n",
       "      <th>Case Study 6</th>\n",
       "      <th>Case Study 7</th>\n",
       "      <th>ACS</th>\n",
       "    </tr>\n",
       "  </thead>\n",
       "  <tbody>\n",
       "    <tr>\n",
       "      <th>0</th>\n",
       "      <td>720516</td>\n",
       "      <td>144203552</td>\n",
       "      <td>8) inactive</td>\n",
       "      <td>5) inactive</td>\n",
       "      <td>NaN</td>\n",
       "      <td>NaN</td>\n",
       "      <td>0.0</td>\n",
       "      <td>5) inactive</td>\n",
       "      <td>NaN</td>\n",
       "      <td>NaN</td>\n",
       "      <td>0.0</td>\n",
       "      <td>12850184</td>\n",
       "      <td>5460352</td>\n",
       "      <td>C(C(=O)[C@H]([C@@H]([C@H](C(=O)O)O)O)O)O</td>\n",
       "      <td>IZSRJDGCGRAUAR-MROZADKFSA-N</td>\n",
       "      <td></td>\n",
       "      <td>✗</td>\n",
       "      <td>✗</td>\n",
       "      <td>✗</td>\n",
       "      <td>✗</td>\n",
       "      <td>✗</td>\n",
       "      <td>✗</td>\n",
       "      <td>✗</td>\n",
       "      <td>✗</td>\n",
       "      <td>0</td>\n",
       "    </tr>\n",
       "  </tbody>\n",
       "</table>"
      ],
      "text/plain": [
       "      AID        SID      Summary     Activity  Potency (uM)  AC50  Efficacy (%) Viability Activity  Viability Potency (uM)  Viability AC50 ...  Compound Name  Any Case Study  Case Study 1 Case Study 2 Case Study 3 Case Study 4 Case Study 5 Case Study 6 Case Study 7 ACS\n",
       "0  720516  144203552  8) inactive  5) inactive           NaN   NaN           0.0        5) inactive                     NaN             NaN ...                              ✗             ✗            ✗            ✗            ✗            ✗            ✗            ✗   0\n",
       "\n",
       "[1 rows x 25 columns]"
      ]
     },
     "execution_count": 37,
     "metadata": {},
     "output_type": "execute_result"
    }
   ],
   "source": [
    "pivoted_df.head(1)"
   ]
  },
  {
   "cell_type": "markdown",
   "metadata": {},
   "source": [
    "### Assay information"
   ]
  },
  {
   "cell_type": "markdown",
   "metadata": {},
   "source": [
    "See [here](0_Tox21_assays.ipynb) for further details on the Tox21 summary assays."
   ]
  },
  {
   "cell_type": "code",
   "execution_count": 38,
   "metadata": {
    "collapsed": false
   },
   "outputs": [
    {
     "data": {
      "text/plain": [
       "(35, 4)"
      ]
     },
     "execution_count": 38,
     "metadata": {},
     "output_type": "execute_result"
    }
   ],
   "source": [
    "summary_assays_df = pd.read_pickle(os.path.join(data_dir, 'tox21_summary_assays.pkl'))\n",
    "\n",
    "summary_assays_df.shape"
   ]
  },
  {
   "cell_type": "code",
   "execution_count": 39,
   "metadata": {
    "collapsed": false
   },
   "outputs": [
    {
     "data": {
      "text/html": [
       "<table border=\"1\" class=\"dataframe\">\n",
       "  <thead>\n",
       "    <tr style=\"text-align: right;\">\n",
       "      <th></th>\n",
       "      <th>AID</th>\n",
       "      <th>assay_name</th>\n",
       "      <th>target</th>\n",
       "      <th>gene_id</th>\n",
       "    </tr>\n",
       "  </thead>\n",
       "  <tbody>\n",
       "    <tr>\n",
       "      <th>0</th>\n",
       "      <td>720516</td>\n",
       "      <td>qHTS assay for small molecules that induce genotoxicity in human embryonic kidney cells expressing luciferase-tagged ATAD5</td>\n",
       "      <td>ATPase family AAA domain-containing protein 5; Chromosome fragility-associated gene 1 protein</td>\n",
       "      <td>296439460</td>\n",
       "    </tr>\n",
       "  </tbody>\n",
       "</table>"
      ],
      "text/plain": [
       "      AID                                                                                                                  assay_name                                                                                         target    gene_id\n",
       "0  720516  qHTS assay for small molecules that induce genotoxicity in human embryonic kidney cells expressing luciferase-tagged ATAD5  ATPase family AAA domain-containing protein 5; Chromosome fragility-associated gene 1 protein  296439460"
      ]
     },
     "execution_count": 39,
     "metadata": {},
     "output_type": "execute_result"
    }
   ],
   "source": [
    "summary_assays_df.head(1)"
   ]
  },
  {
   "cell_type": "code",
   "execution_count": 40,
   "metadata": {
    "collapsed": false
   },
   "outputs": [
    {
     "data": {
      "text/plain": [
       "(341566, 28)"
      ]
     },
     "execution_count": 40,
     "metadata": {},
     "output_type": "execute_result"
    }
   ],
   "source": [
    "pivoted_df = pivoted_df.merge(summary_assays_df, on='AID')\n",
    "\n",
    "pivoted_df.shape"
   ]
  },
  {
   "cell_type": "code",
   "execution_count": 41,
   "metadata": {
    "collapsed": false
   },
   "outputs": [],
   "source": [
    "# Prettify column names...\n",
    "\n",
    "pivoted_df.rename(columns={'assay_name': 'Assay Name', 'target': 'Target', 'gene_id': 'Gene ID'}, inplace=True)\n",
    "\n",
    "# reorder columns...\n",
    "\n",
    "pivoted_df = insert_column_after(pivoted_df, 'AID', 'Assay Name')"
   ]
  },
  {
   "cell_type": "code",
   "execution_count": 42,
   "metadata": {
    "collapsed": false
   },
   "outputs": [
    {
     "data": {
      "text/html": [
       "<table border=\"1\" class=\"dataframe\">\n",
       "  <thead>\n",
       "    <tr style=\"text-align: right;\">\n",
       "      <th></th>\n",
       "      <th>AID</th>\n",
       "      <th>Assay Name</th>\n",
       "      <th>SID</th>\n",
       "      <th>Summary</th>\n",
       "      <th>Activity</th>\n",
       "      <th>Potency (uM)</th>\n",
       "      <th>AC50</th>\n",
       "      <th>Efficacy (%)</th>\n",
       "      <th>Viability Activity</th>\n",
       "      <th>Viability Potency (uM)</th>\n",
       "      <th>Viability AC50</th>\n",
       "      <th>Viability Efficacy (%)</th>\n",
       "      <th>CID</th>\n",
       "      <th>parent_CID</th>\n",
       "      <th>smiles</th>\n",
       "      <th>inchikey</th>\n",
       "      <th>Compound Name</th>\n",
       "      <th>Any Case Study</th>\n",
       "      <th>Case Study 1</th>\n",
       "      <th>Case Study 2</th>\n",
       "      <th>Case Study 3</th>\n",
       "      <th>Case Study 4</th>\n",
       "      <th>Case Study 5</th>\n",
       "      <th>Case Study 6</th>\n",
       "      <th>Case Study 7</th>\n",
       "      <th>ACS</th>\n",
       "      <th>Target</th>\n",
       "      <th>Gene ID</th>\n",
       "    </tr>\n",
       "  </thead>\n",
       "  <tbody>\n",
       "    <tr>\n",
       "      <th>0</th>\n",
       "      <td>720516</td>\n",
       "      <td>qHTS assay for small molecules that induce genotoxicity in human embryonic kidney cells expressing luciferase-tagged ATAD5</td>\n",
       "      <td>144203552</td>\n",
       "      <td>8) inactive</td>\n",
       "      <td>5) inactive</td>\n",
       "      <td>NaN</td>\n",
       "      <td>NaN</td>\n",
       "      <td>0.0</td>\n",
       "      <td>5) inactive</td>\n",
       "      <td>NaN</td>\n",
       "      <td>NaN</td>\n",
       "      <td>0.0</td>\n",
       "      <td>12850184</td>\n",
       "      <td>5460352</td>\n",
       "      <td>C(C(=O)[C@H]([C@@H]([C@H](C(=O)O)O)O)O)O</td>\n",
       "      <td>IZSRJDGCGRAUAR-MROZADKFSA-N</td>\n",
       "      <td></td>\n",
       "      <td>✗</td>\n",
       "      <td>✗</td>\n",
       "      <td>✗</td>\n",
       "      <td>✗</td>\n",
       "      <td>✗</td>\n",
       "      <td>✗</td>\n",
       "      <td>✗</td>\n",
       "      <td>✗</td>\n",
       "      <td>0</td>\n",
       "      <td>ATPase family AAA domain-containing protein 5; Chromosome fragility-associated gene 1 protein</td>\n",
       "      <td>296439460</td>\n",
       "    </tr>\n",
       "  </tbody>\n",
       "</table>"
      ],
      "text/plain": [
       "      AID                                                                                                                  Assay Name        SID      Summary     Activity  Potency (uM)  AC50  Efficacy (%) Viability Activity  Viability Potency (uM)    ...      Case Study 1  Case Study 2  Case Study 3  Case Study 4 Case Study 5 Case Study 6 Case Study 7 ACS                                                                                         Target    Gene ID\n",
       "0  720516  qHTS assay for small molecules that induce genotoxicity in human embryonic kidney cells expressing luciferase-tagged ATAD5  144203552  8) inactive  5) inactive           NaN   NaN           0.0        5) inactive                     NaN    ...                 ✗             ✗             ✗             ✗            ✗            ✗            ✗   0  ATPase family AAA domain-containing protein 5; Chromosome fragility-associated gene 1 protein  296439460\n",
       "\n",
       "[1 rows x 28 columns]"
      ]
     },
     "execution_count": 42,
     "metadata": {},
     "output_type": "execute_result"
    }
   ],
   "source": [
    "pivoted_df.head(1)"
   ]
  },
  {
   "cell_type": "code",
   "execution_count": 43,
   "metadata": {
    "collapsed": false
   },
   "outputs": [],
   "source": [
    "# Sort first on assay name, as this is likely how the data will be browsed...\n",
    "\n",
    "pivoted_df.sort_values(['Assay Name', 'SID'], inplace=True)"
   ]
  },
  {
   "cell_type": "markdown",
   "metadata": {},
   "source": [
    "### Export data \n",
    "\n",
    "Export data as CSV file for import into a visualization application such as DataWarrior."
   ]
  },
  {
   "cell_type": "code",
   "execution_count": 44,
   "metadata": {
    "collapsed": false
   },
   "outputs": [],
   "source": [
    "pivoted_df.to_csv(os.path.join(data_dir, 'tox21_data_for_visualization.csv'), index=False)"
   ]
  },
  {
   "cell_type": "markdown",
   "metadata": {},
   "source": [
    "### Examining hit-call counts\n",
    "\n",
    "A brief digression to look at the distribution of the various hit calls."
   ]
  },
  {
   "cell_type": "markdown",
   "metadata": {},
   "source": [
    "Independent counts for various hit calls..."
   ]
  },
  {
   "cell_type": "code",
   "execution_count": 45,
   "metadata": {
    "collapsed": false
   },
   "outputs": [
    {
     "data": {
      "text/html": [
       "<table border=\"1\" class=\"dataframe\">\n",
       "  <thead>\n",
       "    <tr style=\"text-align: right;\">\n",
       "      <th></th>\n",
       "      <th>Summary</th>\n",
       "      <th>N</th>\n",
       "    </tr>\n",
       "  </thead>\n",
       "  <tbody>\n",
       "    <tr>\n",
       "      <th>0</th>\n",
       "      <td>8) inactive</td>\n",
       "      <td>273905</td>\n",
       "    </tr>\n",
       "    <tr>\n",
       "      <th>1</th>\n",
       "      <td>7) inconclusive</td>\n",
       "      <td>16899</td>\n",
       "    </tr>\n",
       "    <tr>\n",
       "      <th>2</th>\n",
       "      <td>0) active agonist</td>\n",
       "      <td>13266</td>\n",
       "    </tr>\n",
       "    <tr>\n",
       "      <th>3</th>\n",
       "      <td>1) inconclusive agonist</td>\n",
       "      <td>11539</td>\n",
       "    </tr>\n",
       "    <tr>\n",
       "      <th>4</th>\n",
       "      <td>6) inconclusive antagonist (cytotoxic)</td>\n",
       "      <td>10169</td>\n",
       "    </tr>\n",
       "    <tr>\n",
       "      <th>5</th>\n",
       "      <td>4) active antagonist</td>\n",
       "      <td>8361</td>\n",
       "    </tr>\n",
       "    <tr>\n",
       "      <th>6</th>\n",
       "      <td>5) inconclusive antagonist</td>\n",
       "      <td>6500</td>\n",
       "    </tr>\n",
       "    <tr>\n",
       "      <th>7</th>\n",
       "      <td>2) inconclusive agonist (cytotoxic)</td>\n",
       "      <td>540</td>\n",
       "    </tr>\n",
       "    <tr>\n",
       "      <th>8</th>\n",
       "      <td>3) inconclusive agonist (fluorescent)</td>\n",
       "      <td>387</td>\n",
       "    </tr>\n",
       "  </tbody>\n",
       "</table>"
      ],
      "text/plain": [
       "                                  Summary       N\n",
       "0                             8) inactive  273905\n",
       "1                         7) inconclusive   16899\n",
       "2                       0) active agonist   13266\n",
       "3                 1) inconclusive agonist   11539\n",
       "4  6) inconclusive antagonist (cytotoxic)   10169\n",
       "5                    4) active antagonist    8361\n",
       "6              5) inconclusive antagonist    6500\n",
       "7     2) inconclusive agonist (cytotoxic)     540\n",
       "8   3) inconclusive agonist (fluorescent)     387"
      ]
     },
     "execution_count": 45,
     "metadata": {},
     "output_type": "execute_result"
    }
   ],
   "source": [
    "pivoted_df['Summary'].value_counts().to_frame('N').reset_index(drop=False).rename(columns={'index': 'Summary'}) # .sort_values('Summary')"
   ]
  },
  {
   "cell_type": "code",
   "execution_count": 46,
   "metadata": {
    "collapsed": false
   },
   "outputs": [
    {
     "data": {
      "text/html": [
       "<table border=\"1\" class=\"dataframe\">\n",
       "  <thead>\n",
       "    <tr style=\"text-align: right;\">\n",
       "      <th></th>\n",
       "      <th>Activity</th>\n",
       "      <th>N</th>\n",
       "    </tr>\n",
       "  </thead>\n",
       "  <tbody>\n",
       "    <tr>\n",
       "      <th>0</th>\n",
       "      <td>5) inactive</td>\n",
       "      <td>273905</td>\n",
       "    </tr>\n",
       "    <tr>\n",
       "      <th>1</th>\n",
       "      <td>2) active antagonist</td>\n",
       "      <td>18803</td>\n",
       "    </tr>\n",
       "    <tr>\n",
       "      <th>2</th>\n",
       "      <td>0) active agonist</td>\n",
       "      <td>17253</td>\n",
       "    </tr>\n",
       "    <tr>\n",
       "      <th>3</th>\n",
       "      <td>1) inconclusive agonist</td>\n",
       "      <td>16462</td>\n",
       "    </tr>\n",
       "    <tr>\n",
       "      <th>4</th>\n",
       "      <td>3) inconclusive antagonist</td>\n",
       "      <td>13189</td>\n",
       "    </tr>\n",
       "    <tr>\n",
       "      <th>5</th>\n",
       "      <td>4) inconclusive</td>\n",
       "      <td>1954</td>\n",
       "    </tr>\n",
       "  </tbody>\n",
       "</table>"
      ],
      "text/plain": [
       "                     Activity       N\n",
       "0                 5) inactive  273905\n",
       "1        2) active antagonist   18803\n",
       "2           0) active agonist   17253\n",
       "3     1) inconclusive agonist   16462\n",
       "4  3) inconclusive antagonist   13189\n",
       "5             4) inconclusive    1954"
      ]
     },
     "execution_count": 46,
     "metadata": {},
     "output_type": "execute_result"
    }
   ],
   "source": [
    "pivoted_df['Activity'].value_counts().to_frame('N').reset_index(drop=False).rename(columns={'index': 'Activity'}) # .sort_values('Activity')"
   ]
  },
  {
   "cell_type": "code",
   "execution_count": 47,
   "metadata": {
    "collapsed": false
   },
   "outputs": [
    {
     "data": {
      "text/html": [
       "<table border=\"1\" class=\"dataframe\">\n",
       "  <thead>\n",
       "    <tr style=\"text-align: right;\">\n",
       "      <th></th>\n",
       "      <th>Viability Activity</th>\n",
       "      <th>N</th>\n",
       "    </tr>\n",
       "  </thead>\n",
       "  <tbody>\n",
       "    <tr>\n",
       "      <th>0</th>\n",
       "      <td>5) inactive</td>\n",
       "      <td>243070</td>\n",
       "    </tr>\n",
       "    <tr>\n",
       "      <th>1</th>\n",
       "      <td></td>\n",
       "      <td>50871</td>\n",
       "    </tr>\n",
       "    <tr>\n",
       "      <th>2</th>\n",
       "      <td>2) active antagonist</td>\n",
       "      <td>21828</td>\n",
       "    </tr>\n",
       "    <tr>\n",
       "      <th>3</th>\n",
       "      <td>3) inconclusive antagonist</td>\n",
       "      <td>17489</td>\n",
       "    </tr>\n",
       "    <tr>\n",
       "      <th>4</th>\n",
       "      <td>1) inconclusive agonist</td>\n",
       "      <td>6226</td>\n",
       "    </tr>\n",
       "    <tr>\n",
       "      <th>5</th>\n",
       "      <td>4) inconclusive</td>\n",
       "      <td>1288</td>\n",
       "    </tr>\n",
       "    <tr>\n",
       "      <th>6</th>\n",
       "      <td>0) active agonist</td>\n",
       "      <td>794</td>\n",
       "    </tr>\n",
       "  </tbody>\n",
       "</table>"
      ],
      "text/plain": [
       "           Viability Activity       N\n",
       "0                 5) inactive  243070\n",
       "1                               50871\n",
       "2        2) active antagonist   21828\n",
       "3  3) inconclusive antagonist   17489\n",
       "4     1) inconclusive agonist    6226\n",
       "5             4) inconclusive    1288\n",
       "6           0) active agonist     794"
      ]
     },
     "execution_count": 47,
     "metadata": {},
     "output_type": "execute_result"
    }
   ],
   "source": [
    "pivoted_df['Viability Activity'].value_counts().to_frame('N').reset_index(drop=False).rename(columns={'index': 'Viability Activity'}) # .sort_values('Viability Activity')"
   ]
  },
  {
   "cell_type": "markdown",
   "metadata": {},
   "source": [
    "Contingent counts for various hit calls..."
   ]
  },
  {
   "cell_type": "code",
   "execution_count": 48,
   "metadata": {
    "collapsed": false,
    "scrolled": true
   },
   "outputs": [
    {
     "data": {
      "text/html": [
       "<table border=\"1\" class=\"dataframe\">\n",
       "  <thead>\n",
       "    <tr style=\"text-align: right;\">\n",
       "      <th></th>\n",
       "      <th></th>\n",
       "      <th></th>\n",
       "      <th>count</th>\n",
       "    </tr>\n",
       "    <tr>\n",
       "      <th>Summary</th>\n",
       "      <th>Activity</th>\n",
       "      <th>Viability Activity</th>\n",
       "      <th></th>\n",
       "    </tr>\n",
       "  </thead>\n",
       "  <tbody>\n",
       "    <tr>\n",
       "      <th rowspan=\"7\" valign=\"top\">0) active agonist</th>\n",
       "      <th rowspan=\"7\" valign=\"top\">0) active agonist</th>\n",
       "      <th></th>\n",
       "      <td>1793</td>\n",
       "    </tr>\n",
       "    <tr>\n",
       "      <th>0) active agonist</th>\n",
       "      <td>144</td>\n",
       "    </tr>\n",
       "    <tr>\n",
       "      <th>1) inconclusive agonist</th>\n",
       "      <td>230</td>\n",
       "    </tr>\n",
       "    <tr>\n",
       "      <th>2) active antagonist</th>\n",
       "      <td>1723</td>\n",
       "    </tr>\n",
       "    <tr>\n",
       "      <th>3) inconclusive antagonist</th>\n",
       "      <td>995</td>\n",
       "    </tr>\n",
       "    <tr>\n",
       "      <th>4) inconclusive</th>\n",
       "      <td>51</td>\n",
       "    </tr>\n",
       "    <tr>\n",
       "      <th>5) inactive</th>\n",
       "      <td>8330</td>\n",
       "    </tr>\n",
       "    <tr>\n",
       "      <th rowspan=\"13\" valign=\"top\">1) inconclusive agonist</th>\n",
       "      <th rowspan=\"6\" valign=\"top\">0) active agonist</th>\n",
       "      <th>0) active agonist</th>\n",
       "      <td>1</td>\n",
       "    </tr>\n",
       "    <tr>\n",
       "      <th>1) inconclusive agonist</th>\n",
       "      <td>3</td>\n",
       "    </tr>\n",
       "    <tr>\n",
       "      <th>2) active antagonist</th>\n",
       "      <td>27</td>\n",
       "    </tr>\n",
       "    <tr>\n",
       "      <th>3) inconclusive antagonist</th>\n",
       "      <td>16</td>\n",
       "    </tr>\n",
       "    <tr>\n",
       "      <th>4) inconclusive</th>\n",
       "      <td>1</td>\n",
       "    </tr>\n",
       "    <tr>\n",
       "      <th>5) inactive</th>\n",
       "      <td>93</td>\n",
       "    </tr>\n",
       "    <tr>\n",
       "      <th rowspan=\"7\" valign=\"top\">1) inconclusive agonist</th>\n",
       "      <th></th>\n",
       "      <td>1018</td>\n",
       "    </tr>\n",
       "    <tr>\n",
       "      <th>0) active agonist</th>\n",
       "      <td>69</td>\n",
       "    </tr>\n",
       "    <tr>\n",
       "      <th>1) inconclusive agonist</th>\n",
       "      <td>286</td>\n",
       "    </tr>\n",
       "    <tr>\n",
       "      <th>2) active antagonist</th>\n",
       "      <td>634</td>\n",
       "    </tr>\n",
       "    <tr>\n",
       "      <th>3) inconclusive antagonist</th>\n",
       "      <td>573</td>\n",
       "    </tr>\n",
       "    <tr>\n",
       "      <th>4) inconclusive</th>\n",
       "      <td>40</td>\n",
       "    </tr>\n",
       "    <tr>\n",
       "      <th>5) inactive</th>\n",
       "      <td>8778</td>\n",
       "    </tr>\n",
       "    <tr>\n",
       "      <th rowspan=\"4\" valign=\"top\">2) inconclusive agonist (cytotoxic)</th>\n",
       "      <th rowspan=\"2\" valign=\"top\">0) active agonist</th>\n",
       "      <th>2) active antagonist</th>\n",
       "      <td>143</td>\n",
       "    </tr>\n",
       "    <tr>\n",
       "      <th>3) inconclusive antagonist</th>\n",
       "      <td>74</td>\n",
       "    </tr>\n",
       "    <tr>\n",
       "      <th rowspan=\"2\" valign=\"top\">1) inconclusive agonist</th>\n",
       "      <th>2) active antagonist</th>\n",
       "      <td>188</td>\n",
       "    </tr>\n",
       "    <tr>\n",
       "      <th>3) inconclusive antagonist</th>\n",
       "      <td>135</td>\n",
       "    </tr>\n",
       "    <tr>\n",
       "      <th rowspan=\"11\" valign=\"top\">3) inconclusive agonist (fluorescent)</th>\n",
       "      <th rowspan=\"6\" valign=\"top\">0) active agonist</th>\n",
       "      <th></th>\n",
       "      <td>101</td>\n",
       "    </tr>\n",
       "    <tr>\n",
       "      <th>1) inconclusive agonist</th>\n",
       "      <td>5</td>\n",
       "    </tr>\n",
       "    <tr>\n",
       "      <th>2) active antagonist</th>\n",
       "      <td>24</td>\n",
       "    </tr>\n",
       "    <tr>\n",
       "      <th>3) inconclusive antagonist</th>\n",
       "      <td>21</td>\n",
       "    </tr>\n",
       "    <tr>\n",
       "      <th>4) inconclusive</th>\n",
       "      <td>3</td>\n",
       "    </tr>\n",
       "    <tr>\n",
       "      <th>5) inactive</th>\n",
       "      <td>190</td>\n",
       "    </tr>\n",
       "    <tr>\n",
       "      <th rowspan=\"5\" valign=\"top\">1) inconclusive agonist</th>\n",
       "      <th></th>\n",
       "      <td>10</td>\n",
       "    </tr>\n",
       "    <tr>\n",
       "      <th>1) inconclusive agonist</th>\n",
       "      <td>3</td>\n",
       "    </tr>\n",
       "    <tr>\n",
       "      <th>2) active antagonist</th>\n",
       "      <td>3</td>\n",
       "    </tr>\n",
       "    <tr>\n",
       "      <th>3) inconclusive antagonist</th>\n",
       "      <td>5</td>\n",
       "    </tr>\n",
       "    <tr>\n",
       "      <th>5) inactive</th>\n",
       "      <td>22</td>\n",
       "    </tr>\n",
       "    <tr>\n",
       "      <th rowspan=\"7\" valign=\"top\">4) active antagonist</th>\n",
       "      <th rowspan=\"7\" valign=\"top\">2) active antagonist</th>\n",
       "      <th></th>\n",
       "      <td>210</td>\n",
       "    </tr>\n",
       "    <tr>\n",
       "      <th>0) active agonist</th>\n",
       "      <td>120</td>\n",
       "    </tr>\n",
       "    <tr>\n",
       "      <th>1) inconclusive agonist</th>\n",
       "      <td>254</td>\n",
       "    </tr>\n",
       "    <tr>\n",
       "      <th>2) active antagonist</th>\n",
       "      <td>2070</td>\n",
       "    </tr>\n",
       "    <tr>\n",
       "      <th>3) inconclusive antagonist</th>\n",
       "      <td>1059</td>\n",
       "    </tr>\n",
       "    <tr>\n",
       "      <th>4) inconclusive</th>\n",
       "      <td>126</td>\n",
       "    </tr>\n",
       "    <tr>\n",
       "      <th>5) inactive</th>\n",
       "      <td>4522</td>\n",
       "    </tr>\n",
       "    <tr>\n",
       "      <th rowspan=\"9\" valign=\"top\">5) inconclusive antagonist</th>\n",
       "      <th rowspan=\"2\" valign=\"top\">2) active antagonist</th>\n",
       "      <th>3) inconclusive antagonist</th>\n",
       "      <td>1</td>\n",
       "    </tr>\n",
       "    <tr>\n",
       "      <th>5) inactive</th>\n",
       "      <td>2</td>\n",
       "    </tr>\n",
       "    <tr>\n",
       "      <th rowspan=\"7\" valign=\"top\">3) inconclusive antagonist</th>\n",
       "      <th></th>\n",
       "      <td>364</td>\n",
       "    </tr>\n",
       "    <tr>\n",
       "      <th>0) active agonist</th>\n",
       "      <td>43</td>\n",
       "    </tr>\n",
       "    <tr>\n",
       "      <th>1) inconclusive agonist</th>\n",
       "      <td>169</td>\n",
       "    </tr>\n",
       "    <tr>\n",
       "      <th>2) active antagonist</th>\n",
       "      <td>685</td>\n",
       "    </tr>\n",
       "    <tr>\n",
       "      <th>3) inconclusive antagonist</th>\n",
       "      <td>699</td>\n",
       "    </tr>\n",
       "    <tr>\n",
       "      <th>4) inconclusive</th>\n",
       "      <td>83</td>\n",
       "    </tr>\n",
       "    <tr>\n",
       "      <th>5) inactive</th>\n",
       "      <td>4454</td>\n",
       "    </tr>\n",
       "    <tr>\n",
       "      <th rowspan=\"4\" valign=\"top\">6) inconclusive antagonist (cytotoxic)</th>\n",
       "      <th rowspan=\"2\" valign=\"top\">2) active antagonist</th>\n",
       "      <th>2) active antagonist</th>\n",
       "      <td>6390</td>\n",
       "    </tr>\n",
       "    <tr>\n",
       "      <th>3) inconclusive antagonist</th>\n",
       "      <td>1684</td>\n",
       "    </tr>\n",
       "    <tr>\n",
       "      <th rowspan=\"2\" valign=\"top\">3) inconclusive antagonist</th>\n",
       "      <th>2) active antagonist</th>\n",
       "      <td>1108</td>\n",
       "    </tr>\n",
       "    <tr>\n",
       "      <th>3) inconclusive antagonist</th>\n",
       "      <td>987</td>\n",
       "    </tr>\n",
       "    <tr>\n",
       "      <th rowspan=\"34\" valign=\"top\">7) inconclusive</th>\n",
       "      <th rowspan=\"7\" valign=\"top\">0) active agonist</th>\n",
       "      <th></th>\n",
       "      <td>693</td>\n",
       "    </tr>\n",
       "    <tr>\n",
       "      <th>0) active agonist</th>\n",
       "      <td>5</td>\n",
       "    </tr>\n",
       "    <tr>\n",
       "      <th>1) inconclusive agonist</th>\n",
       "      <td>17</td>\n",
       "    </tr>\n",
       "    <tr>\n",
       "      <th>2) active antagonist</th>\n",
       "      <td>1717</td>\n",
       "    </tr>\n",
       "    <tr>\n",
       "      <th>3) inconclusive antagonist</th>\n",
       "      <td>371</td>\n",
       "    </tr>\n",
       "    <tr>\n",
       "      <th>4) inconclusive</th>\n",
       "      <td>16</td>\n",
       "    </tr>\n",
       "    <tr>\n",
       "      <th>5) inactive</th>\n",
       "      <td>466</td>\n",
       "    </tr>\n",
       "    <tr>\n",
       "      <th rowspan=\"7\" valign=\"top\">1) inconclusive agonist</th>\n",
       "      <th></th>\n",
       "      <td>878</td>\n",
       "    </tr>\n",
       "    <tr>\n",
       "      <th>0) active agonist</th>\n",
       "      <td>12</td>\n",
       "    </tr>\n",
       "    <tr>\n",
       "      <th>1) inconclusive agonist</th>\n",
       "      <td>87</td>\n",
       "    </tr>\n",
       "    <tr>\n",
       "      <th>2) active antagonist</th>\n",
       "      <td>831</td>\n",
       "    </tr>\n",
       "    <tr>\n",
       "      <th>3) inconclusive antagonist</th>\n",
       "      <td>592</td>\n",
       "    </tr>\n",
       "    <tr>\n",
       "      <th>4) inconclusive</th>\n",
       "      <td>46</td>\n",
       "    </tr>\n",
       "    <tr>\n",
       "      <th>5) inactive</th>\n",
       "      <td>2252</td>\n",
       "    </tr>\n",
       "    <tr>\n",
       "      <th rowspan=\"6\" valign=\"top\">2) active antagonist</th>\n",
       "      <th></th>\n",
       "      <td>701</td>\n",
       "    </tr>\n",
       "    <tr>\n",
       "      <th>1) inconclusive agonist</th>\n",
       "      <td>20</td>\n",
       "    </tr>\n",
       "    <tr>\n",
       "      <th>2) active antagonist</th>\n",
       "      <td>496</td>\n",
       "    </tr>\n",
       "    <tr>\n",
       "      <th>3) inconclusive antagonist</th>\n",
       "      <td>266</td>\n",
       "    </tr>\n",
       "    <tr>\n",
       "      <th>4) inconclusive</th>\n",
       "      <td>22</td>\n",
       "    </tr>\n",
       "    <tr>\n",
       "      <th>5) inactive</th>\n",
       "      <td>860</td>\n",
       "    </tr>\n",
       "    <tr>\n",
       "      <th rowspan=\"7\" valign=\"top\">3) inconclusive antagonist</th>\n",
       "      <th></th>\n",
       "      <td>925</td>\n",
       "    </tr>\n",
       "    <tr>\n",
       "      <th>0) active agonist</th>\n",
       "      <td>2</td>\n",
       "    </tr>\n",
       "    <tr>\n",
       "      <th>1) inconclusive agonist</th>\n",
       "      <td>54</td>\n",
       "    </tr>\n",
       "    <tr>\n",
       "      <th>2) active antagonist</th>\n",
       "      <td>712</td>\n",
       "    </tr>\n",
       "    <tr>\n",
       "      <th>3) inconclusive antagonist</th>\n",
       "      <td>718</td>\n",
       "    </tr>\n",
       "    <tr>\n",
       "      <th>4) inconclusive</th>\n",
       "      <td>37</td>\n",
       "    </tr>\n",
       "    <tr>\n",
       "      <th>5) inactive</th>\n",
       "      <td>2149</td>\n",
       "    </tr>\n",
       "    <tr>\n",
       "      <th rowspan=\"7\" valign=\"top\">4) inconclusive</th>\n",
       "      <th></th>\n",
       "      <td>223</td>\n",
       "    </tr>\n",
       "    <tr>\n",
       "      <th>0) active agonist</th>\n",
       "      <td>5</td>\n",
       "    </tr>\n",
       "    <tr>\n",
       "      <th>1) inconclusive agonist</th>\n",
       "      <td>54</td>\n",
       "    </tr>\n",
       "    <tr>\n",
       "      <th>2) active antagonist</th>\n",
       "      <td>458</td>\n",
       "    </tr>\n",
       "    <tr>\n",
       "      <th>3) inconclusive antagonist</th>\n",
       "      <td>291</td>\n",
       "    </tr>\n",
       "    <tr>\n",
       "      <th>4) inconclusive</th>\n",
       "      <td>30</td>\n",
       "    </tr>\n",
       "    <tr>\n",
       "      <th>5) inactive</th>\n",
       "      <td>893</td>\n",
       "    </tr>\n",
       "    <tr>\n",
       "      <th rowspan=\"7\" valign=\"top\">8) inactive</th>\n",
       "      <th rowspan=\"7\" valign=\"top\">5) inactive</th>\n",
       "      <th></th>\n",
       "      <td>43955</td>\n",
       "    </tr>\n",
       "    <tr>\n",
       "      <th>0) active agonist</th>\n",
       "      <td>393</td>\n",
       "    </tr>\n",
       "    <tr>\n",
       "      <th>1) inconclusive agonist</th>\n",
       "      <td>5044</td>\n",
       "    </tr>\n",
       "    <tr>\n",
       "      <th>2) active antagonist</th>\n",
       "      <td>4619</td>\n",
       "    </tr>\n",
       "    <tr>\n",
       "      <th>3) inconclusive antagonist</th>\n",
       "      <td>9002</td>\n",
       "    </tr>\n",
       "    <tr>\n",
       "      <th>4) inconclusive</th>\n",
       "      <td>833</td>\n",
       "    </tr>\n",
       "    <tr>\n",
       "      <th>5) inactive</th>\n",
       "      <td>210059</td>\n",
       "    </tr>\n",
       "  </tbody>\n",
       "</table>"
      ],
      "text/plain": [
       "                                                                                               count\n",
       "Summary                                Activity                   Viability Activity                \n",
       "0) active agonist                      0) active agonist                                        1793\n",
       "                                                                  0) active agonist              144\n",
       "                                                                  1) inconclusive agonist        230\n",
       "                                                                  2) active antagonist          1723\n",
       "                                                                  3) inconclusive antagonist     995\n",
       "                                                                  4) inconclusive                 51\n",
       "                                                                  5) inactive                   8330\n",
       "1) inconclusive agonist                0) active agonist          0) active agonist                1\n",
       "                                                                  1) inconclusive agonist          3\n",
       "                                                                  2) active antagonist            27\n",
       "                                                                  3) inconclusive antagonist      16\n",
       "                                                                  4) inconclusive                  1\n",
       "                                                                  5) inactive                     93\n",
       "                                       1) inconclusive agonist                                  1018\n",
       "                                                                  0) active agonist               69\n",
       "                                                                  1) inconclusive agonist        286\n",
       "                                                                  2) active antagonist           634\n",
       "                                                                  3) inconclusive antagonist     573\n",
       "                                                                  4) inconclusive                 40\n",
       "                                                                  5) inactive                   8778\n",
       "2) inconclusive agonist (cytotoxic)    0) active agonist          2) active antagonist           143\n",
       "                                                                  3) inconclusive antagonist      74\n",
       "                                       1) inconclusive agonist    2) active antagonist           188\n",
       "                                                                  3) inconclusive antagonist     135\n",
       "3) inconclusive agonist (fluorescent)  0) active agonist                                         101\n",
       "                                                                  1) inconclusive agonist          5\n",
       "                                                                  2) active antagonist            24\n",
       "                                                                  3) inconclusive antagonist      21\n",
       "                                                                  4) inconclusive                  3\n",
       "                                                                  5) inactive                    190\n",
       "                                       1) inconclusive agonist                                    10\n",
       "                                                                  1) inconclusive agonist          3\n",
       "                                                                  2) active antagonist             3\n",
       "                                                                  3) inconclusive antagonist       5\n",
       "                                                                  5) inactive                     22\n",
       "4) active antagonist                   2) active antagonist                                      210\n",
       "                                                                  0) active agonist              120\n",
       "                                                                  1) inconclusive agonist        254\n",
       "                                                                  2) active antagonist          2070\n",
       "                                                                  3) inconclusive antagonist    1059\n",
       "                                                                  4) inconclusive                126\n",
       "                                                                  5) inactive                   4522\n",
       "5) inconclusive antagonist             2) active antagonist       3) inconclusive antagonist       1\n",
       "                                                                  5) inactive                      2\n",
       "                                       3) inconclusive antagonist                                364\n",
       "                                                                  0) active agonist               43\n",
       "                                                                  1) inconclusive agonist        169\n",
       "                                                                  2) active antagonist           685\n",
       "                                                                  3) inconclusive antagonist     699\n",
       "                                                                  4) inconclusive                 83\n",
       "                                                                  5) inactive                   4454\n",
       "6) inconclusive antagonist (cytotoxic) 2) active antagonist       2) active antagonist          6390\n",
       "                                                                  3) inconclusive antagonist    1684\n",
       "                                       3) inconclusive antagonist 2) active antagonist          1108\n",
       "                                                                  3) inconclusive antagonist     987\n",
       "7) inconclusive                        0) active agonist                                         693\n",
       "                                                                  0) active agonist                5\n",
       "                                                                  1) inconclusive agonist         17\n",
       "                                                                  2) active antagonist          1717\n",
       "                                                                  3) inconclusive antagonist     371\n",
       "                                                                  4) inconclusive                 16\n",
       "                                                                  5) inactive                    466\n",
       "                                       1) inconclusive agonist                                   878\n",
       "                                                                  0) active agonist               12\n",
       "                                                                  1) inconclusive agonist         87\n",
       "                                                                  2) active antagonist           831\n",
       "                                                                  3) inconclusive antagonist     592\n",
       "                                                                  4) inconclusive                 46\n",
       "                                                                  5) inactive                   2252\n",
       "                                       2) active antagonist                                      701\n",
       "                                                                  1) inconclusive agonist         20\n",
       "                                                                  2) active antagonist           496\n",
       "                                                                  3) inconclusive antagonist     266\n",
       "                                                                  4) inconclusive                 22\n",
       "                                                                  5) inactive                    860\n",
       "                                       3) inconclusive antagonist                                925\n",
       "                                                                  0) active agonist                2\n",
       "                                                                  1) inconclusive agonist         54\n",
       "                                                                  2) active antagonist           712\n",
       "                                                                  3) inconclusive antagonist     718\n",
       "                                                                  4) inconclusive                 37\n",
       "                                                                  5) inactive                   2149\n",
       "                                       4) inconclusive                                           223\n",
       "                                                                  0) active agonist                5\n",
       "                                                                  1) inconclusive agonist         54\n",
       "                                                                  2) active antagonist           458\n",
       "                                                                  3) inconclusive antagonist     291\n",
       "                                                                  4) inconclusive                 30\n",
       "                                                                  5) inactive                    893\n",
       "8) inactive                            5) inactive                                             43955\n",
       "                                                                  0) active agonist              393\n",
       "                                                                  1) inconclusive agonist       5044\n",
       "                                                                  2) active antagonist          4619\n",
       "                                                                  3) inconclusive antagonist    9002\n",
       "                                                                  4) inconclusive                833\n",
       "                                                                  5) inactive                 210059"
      ]
     },
     "execution_count": 48,
     "metadata": {},
     "output_type": "execute_result"
    }
   ],
   "source": [
    "df = pivoted_df[hit_call_cols].copy()\n",
    "\n",
    "df['count'] = '' # NB Add dummy column for group-by count\n",
    "\n",
    "df = df.groupby(hit_call_cols).count().dropna() # NB Use of categorical variables introduces empty cells\n",
    "\n",
    "df['count'] = df['count'].astype(int) # Introduction of empty cells coerces column to float\n",
    "\n",
    "df"
   ]
  },
  {
   "cell_type": "code",
   "execution_count": 49,
   "metadata": {
    "collapsed": false
   },
   "outputs": [
    {
     "data": {
      "text/html": [
       "<table border=\"1\" class=\"dataframe\">\n",
       "  <thead>\n",
       "    <tr style=\"text-align: right;\">\n",
       "      <th></th>\n",
       "      <th></th>\n",
       "      <th></th>\n",
       "      <th>count</th>\n",
       "    </tr>\n",
       "    <tr>\n",
       "      <th>Viability Activity</th>\n",
       "      <th>Activity</th>\n",
       "      <th>Summary</th>\n",
       "      <th></th>\n",
       "    </tr>\n",
       "  </thead>\n",
       "  <tbody>\n",
       "    <tr>\n",
       "      <th rowspan=\"12\" valign=\"top\"></th>\n",
       "      <th rowspan=\"3\" valign=\"top\">0) active agonist</th>\n",
       "      <th>0) active agonist</th>\n",
       "      <td>1793</td>\n",
       "    </tr>\n",
       "    <tr>\n",
       "      <th>3) inconclusive agonist (fluorescent)</th>\n",
       "      <td>101</td>\n",
       "    </tr>\n",
       "    <tr>\n",
       "      <th>7) inconclusive</th>\n",
       "      <td>693</td>\n",
       "    </tr>\n",
       "    <tr>\n",
       "      <th rowspan=\"3\" valign=\"top\">1) inconclusive agonist</th>\n",
       "      <th>1) inconclusive agonist</th>\n",
       "      <td>1018</td>\n",
       "    </tr>\n",
       "    <tr>\n",
       "      <th>3) inconclusive agonist (fluorescent)</th>\n",
       "      <td>10</td>\n",
       "    </tr>\n",
       "    <tr>\n",
       "      <th>7) inconclusive</th>\n",
       "      <td>878</td>\n",
       "    </tr>\n",
       "    <tr>\n",
       "      <th rowspan=\"2\" valign=\"top\">2) active antagonist</th>\n",
       "      <th>4) active antagonist</th>\n",
       "      <td>210</td>\n",
       "    </tr>\n",
       "    <tr>\n",
       "      <th>7) inconclusive</th>\n",
       "      <td>701</td>\n",
       "    </tr>\n",
       "    <tr>\n",
       "      <th rowspan=\"2\" valign=\"top\">3) inconclusive antagonist</th>\n",
       "      <th>5) inconclusive antagonist</th>\n",
       "      <td>364</td>\n",
       "    </tr>\n",
       "    <tr>\n",
       "      <th>7) inconclusive</th>\n",
       "      <td>925</td>\n",
       "    </tr>\n",
       "    <tr>\n",
       "      <th>4) inconclusive</th>\n",
       "      <th>7) inconclusive</th>\n",
       "      <td>223</td>\n",
       "    </tr>\n",
       "    <tr>\n",
       "      <th>5) inactive</th>\n",
       "      <th>8) inactive</th>\n",
       "      <td>43955</td>\n",
       "    </tr>\n",
       "    <tr>\n",
       "      <th rowspan=\"10\" valign=\"top\">0) active agonist</th>\n",
       "      <th rowspan=\"3\" valign=\"top\">0) active agonist</th>\n",
       "      <th>0) active agonist</th>\n",
       "      <td>144</td>\n",
       "    </tr>\n",
       "    <tr>\n",
       "      <th>1) inconclusive agonist</th>\n",
       "      <td>1</td>\n",
       "    </tr>\n",
       "    <tr>\n",
       "      <th>7) inconclusive</th>\n",
       "      <td>5</td>\n",
       "    </tr>\n",
       "    <tr>\n",
       "      <th rowspan=\"2\" valign=\"top\">1) inconclusive agonist</th>\n",
       "      <th>1) inconclusive agonist</th>\n",
       "      <td>69</td>\n",
       "    </tr>\n",
       "    <tr>\n",
       "      <th>7) inconclusive</th>\n",
       "      <td>12</td>\n",
       "    </tr>\n",
       "    <tr>\n",
       "      <th>2) active antagonist</th>\n",
       "      <th>4) active antagonist</th>\n",
       "      <td>120</td>\n",
       "    </tr>\n",
       "    <tr>\n",
       "      <th rowspan=\"2\" valign=\"top\">3) inconclusive antagonist</th>\n",
       "      <th>5) inconclusive antagonist</th>\n",
       "      <td>43</td>\n",
       "    </tr>\n",
       "    <tr>\n",
       "      <th>7) inconclusive</th>\n",
       "      <td>2</td>\n",
       "    </tr>\n",
       "    <tr>\n",
       "      <th>4) inconclusive</th>\n",
       "      <th>7) inconclusive</th>\n",
       "      <td>5</td>\n",
       "    </tr>\n",
       "    <tr>\n",
       "      <th>5) inactive</th>\n",
       "      <th>8) inactive</th>\n",
       "      <td>393</td>\n",
       "    </tr>\n",
       "    <tr>\n",
       "      <th rowspan=\"13\" valign=\"top\">1) inconclusive agonist</th>\n",
       "      <th rowspan=\"4\" valign=\"top\">0) active agonist</th>\n",
       "      <th>0) active agonist</th>\n",
       "      <td>230</td>\n",
       "    </tr>\n",
       "    <tr>\n",
       "      <th>1) inconclusive agonist</th>\n",
       "      <td>3</td>\n",
       "    </tr>\n",
       "    <tr>\n",
       "      <th>3) inconclusive agonist (fluorescent)</th>\n",
       "      <td>5</td>\n",
       "    </tr>\n",
       "    <tr>\n",
       "      <th>7) inconclusive</th>\n",
       "      <td>17</td>\n",
       "    </tr>\n",
       "    <tr>\n",
       "      <th rowspan=\"3\" valign=\"top\">1) inconclusive agonist</th>\n",
       "      <th>1) inconclusive agonist</th>\n",
       "      <td>286</td>\n",
       "    </tr>\n",
       "    <tr>\n",
       "      <th>3) inconclusive agonist (fluorescent)</th>\n",
       "      <td>3</td>\n",
       "    </tr>\n",
       "    <tr>\n",
       "      <th>7) inconclusive</th>\n",
       "      <td>87</td>\n",
       "    </tr>\n",
       "    <tr>\n",
       "      <th rowspan=\"2\" valign=\"top\">2) active antagonist</th>\n",
       "      <th>4) active antagonist</th>\n",
       "      <td>254</td>\n",
       "    </tr>\n",
       "    <tr>\n",
       "      <th>7) inconclusive</th>\n",
       "      <td>20</td>\n",
       "    </tr>\n",
       "    <tr>\n",
       "      <th rowspan=\"2\" valign=\"top\">3) inconclusive antagonist</th>\n",
       "      <th>5) inconclusive antagonist</th>\n",
       "      <td>169</td>\n",
       "    </tr>\n",
       "    <tr>\n",
       "      <th>7) inconclusive</th>\n",
       "      <td>54</td>\n",
       "    </tr>\n",
       "    <tr>\n",
       "      <th>4) inconclusive</th>\n",
       "      <th>7) inconclusive</th>\n",
       "      <td>54</td>\n",
       "    </tr>\n",
       "    <tr>\n",
       "      <th>5) inactive</th>\n",
       "      <th>8) inactive</th>\n",
       "      <td>5044</td>\n",
       "    </tr>\n",
       "    <tr>\n",
       "      <th rowspan=\"17\" valign=\"top\">2) active antagonist</th>\n",
       "      <th rowspan=\"5\" valign=\"top\">0) active agonist</th>\n",
       "      <th>0) active agonist</th>\n",
       "      <td>1723</td>\n",
       "    </tr>\n",
       "    <tr>\n",
       "      <th>1) inconclusive agonist</th>\n",
       "      <td>27</td>\n",
       "    </tr>\n",
       "    <tr>\n",
       "      <th>2) inconclusive agonist (cytotoxic)</th>\n",
       "      <td>143</td>\n",
       "    </tr>\n",
       "    <tr>\n",
       "      <th>3) inconclusive agonist (fluorescent)</th>\n",
       "      <td>24</td>\n",
       "    </tr>\n",
       "    <tr>\n",
       "      <th>7) inconclusive</th>\n",
       "      <td>1717</td>\n",
       "    </tr>\n",
       "    <tr>\n",
       "      <th rowspan=\"4\" valign=\"top\">1) inconclusive agonist</th>\n",
       "      <th>1) inconclusive agonist</th>\n",
       "      <td>634</td>\n",
       "    </tr>\n",
       "    <tr>\n",
       "      <th>2) inconclusive agonist (cytotoxic)</th>\n",
       "      <td>188</td>\n",
       "    </tr>\n",
       "    <tr>\n",
       "      <th>3) inconclusive agonist (fluorescent)</th>\n",
       "      <td>3</td>\n",
       "    </tr>\n",
       "    <tr>\n",
       "      <th>7) inconclusive</th>\n",
       "      <td>831</td>\n",
       "    </tr>\n",
       "    <tr>\n",
       "      <th rowspan=\"3\" valign=\"top\">2) active antagonist</th>\n",
       "      <th>4) active antagonist</th>\n",
       "      <td>2070</td>\n",
       "    </tr>\n",
       "    <tr>\n",
       "      <th>6) inconclusive antagonist (cytotoxic)</th>\n",
       "      <td>6390</td>\n",
       "    </tr>\n",
       "    <tr>\n",
       "      <th>7) inconclusive</th>\n",
       "      <td>496</td>\n",
       "    </tr>\n",
       "    <tr>\n",
       "      <th rowspan=\"3\" valign=\"top\">3) inconclusive antagonist</th>\n",
       "      <th>5) inconclusive antagonist</th>\n",
       "      <td>685</td>\n",
       "    </tr>\n",
       "    <tr>\n",
       "      <th>6) inconclusive antagonist (cytotoxic)</th>\n",
       "      <td>1108</td>\n",
       "    </tr>\n",
       "    <tr>\n",
       "      <th>7) inconclusive</th>\n",
       "      <td>712</td>\n",
       "    </tr>\n",
       "    <tr>\n",
       "      <th>4) inconclusive</th>\n",
       "      <th>7) inconclusive</th>\n",
       "      <td>458</td>\n",
       "    </tr>\n",
       "    <tr>\n",
       "      <th>5) inactive</th>\n",
       "      <th>8) inactive</th>\n",
       "      <td>4619</td>\n",
       "    </tr>\n",
       "    <tr>\n",
       "      <th rowspan=\"18\" valign=\"top\">3) inconclusive antagonist</th>\n",
       "      <th rowspan=\"5\" valign=\"top\">0) active agonist</th>\n",
       "      <th>0) active agonist</th>\n",
       "      <td>995</td>\n",
       "    </tr>\n",
       "    <tr>\n",
       "      <th>1) inconclusive agonist</th>\n",
       "      <td>16</td>\n",
       "    </tr>\n",
       "    <tr>\n",
       "      <th>2) inconclusive agonist (cytotoxic)</th>\n",
       "      <td>74</td>\n",
       "    </tr>\n",
       "    <tr>\n",
       "      <th>3) inconclusive agonist (fluorescent)</th>\n",
       "      <td>21</td>\n",
       "    </tr>\n",
       "    <tr>\n",
       "      <th>7) inconclusive</th>\n",
       "      <td>371</td>\n",
       "    </tr>\n",
       "    <tr>\n",
       "      <th rowspan=\"4\" valign=\"top\">1) inconclusive agonist</th>\n",
       "      <th>1) inconclusive agonist</th>\n",
       "      <td>573</td>\n",
       "    </tr>\n",
       "    <tr>\n",
       "      <th>2) inconclusive agonist (cytotoxic)</th>\n",
       "      <td>135</td>\n",
       "    </tr>\n",
       "    <tr>\n",
       "      <th>3) inconclusive agonist (fluorescent)</th>\n",
       "      <td>5</td>\n",
       "    </tr>\n",
       "    <tr>\n",
       "      <th>7) inconclusive</th>\n",
       "      <td>592</td>\n",
       "    </tr>\n",
       "    <tr>\n",
       "      <th rowspan=\"4\" valign=\"top\">2) active antagonist</th>\n",
       "      <th>4) active antagonist</th>\n",
       "      <td>1059</td>\n",
       "    </tr>\n",
       "    <tr>\n",
       "      <th>5) inconclusive antagonist</th>\n",
       "      <td>1</td>\n",
       "    </tr>\n",
       "    <tr>\n",
       "      <th>6) inconclusive antagonist (cytotoxic)</th>\n",
       "      <td>1684</td>\n",
       "    </tr>\n",
       "    <tr>\n",
       "      <th>7) inconclusive</th>\n",
       "      <td>266</td>\n",
       "    </tr>\n",
       "    <tr>\n",
       "      <th rowspan=\"3\" valign=\"top\">3) inconclusive antagonist</th>\n",
       "      <th>5) inconclusive antagonist</th>\n",
       "      <td>699</td>\n",
       "    </tr>\n",
       "    <tr>\n",
       "      <th>6) inconclusive antagonist (cytotoxic)</th>\n",
       "      <td>987</td>\n",
       "    </tr>\n",
       "    <tr>\n",
       "      <th>7) inconclusive</th>\n",
       "      <td>718</td>\n",
       "    </tr>\n",
       "    <tr>\n",
       "      <th>4) inconclusive</th>\n",
       "      <th>7) inconclusive</th>\n",
       "      <td>291</td>\n",
       "    </tr>\n",
       "    <tr>\n",
       "      <th>5) inactive</th>\n",
       "      <th>8) inactive</th>\n",
       "      <td>9002</td>\n",
       "    </tr>\n",
       "    <tr>\n",
       "      <th rowspan=\"12\" valign=\"top\">4) inconclusive</th>\n",
       "      <th rowspan=\"4\" valign=\"top\">0) active agonist</th>\n",
       "      <th>0) active agonist</th>\n",
       "      <td>51</td>\n",
       "    </tr>\n",
       "    <tr>\n",
       "      <th>1) inconclusive agonist</th>\n",
       "      <td>1</td>\n",
       "    </tr>\n",
       "    <tr>\n",
       "      <th>3) inconclusive agonist (fluorescent)</th>\n",
       "      <td>3</td>\n",
       "    </tr>\n",
       "    <tr>\n",
       "      <th>7) inconclusive</th>\n",
       "      <td>16</td>\n",
       "    </tr>\n",
       "    <tr>\n",
       "      <th rowspan=\"2\" valign=\"top\">1) inconclusive agonist</th>\n",
       "      <th>1) inconclusive agonist</th>\n",
       "      <td>40</td>\n",
       "    </tr>\n",
       "    <tr>\n",
       "      <th>7) inconclusive</th>\n",
       "      <td>46</td>\n",
       "    </tr>\n",
       "    <tr>\n",
       "      <th rowspan=\"2\" valign=\"top\">2) active antagonist</th>\n",
       "      <th>4) active antagonist</th>\n",
       "      <td>126</td>\n",
       "    </tr>\n",
       "    <tr>\n",
       "      <th>7) inconclusive</th>\n",
       "      <td>22</td>\n",
       "    </tr>\n",
       "    <tr>\n",
       "      <th rowspan=\"2\" valign=\"top\">3) inconclusive antagonist</th>\n",
       "      <th>5) inconclusive antagonist</th>\n",
       "      <td>83</td>\n",
       "    </tr>\n",
       "    <tr>\n",
       "      <th>7) inconclusive</th>\n",
       "      <td>37</td>\n",
       "    </tr>\n",
       "    <tr>\n",
       "      <th>4) inconclusive</th>\n",
       "      <th>7) inconclusive</th>\n",
       "      <td>30</td>\n",
       "    </tr>\n",
       "    <tr>\n",
       "      <th>5) inactive</th>\n",
       "      <th>8) inactive</th>\n",
       "      <td>833</td>\n",
       "    </tr>\n",
       "    <tr>\n",
       "      <th rowspan=\"14\" valign=\"top\">5) inactive</th>\n",
       "      <th rowspan=\"4\" valign=\"top\">0) active agonist</th>\n",
       "      <th>0) active agonist</th>\n",
       "      <td>8330</td>\n",
       "    </tr>\n",
       "    <tr>\n",
       "      <th>1) inconclusive agonist</th>\n",
       "      <td>93</td>\n",
       "    </tr>\n",
       "    <tr>\n",
       "      <th>3) inconclusive agonist (fluorescent)</th>\n",
       "      <td>190</td>\n",
       "    </tr>\n",
       "    <tr>\n",
       "      <th>7) inconclusive</th>\n",
       "      <td>466</td>\n",
       "    </tr>\n",
       "    <tr>\n",
       "      <th rowspan=\"3\" valign=\"top\">1) inconclusive agonist</th>\n",
       "      <th>1) inconclusive agonist</th>\n",
       "      <td>8778</td>\n",
       "    </tr>\n",
       "    <tr>\n",
       "      <th>3) inconclusive agonist (fluorescent)</th>\n",
       "      <td>22</td>\n",
       "    </tr>\n",
       "    <tr>\n",
       "      <th>7) inconclusive</th>\n",
       "      <td>2252</td>\n",
       "    </tr>\n",
       "    <tr>\n",
       "      <th rowspan=\"3\" valign=\"top\">2) active antagonist</th>\n",
       "      <th>4) active antagonist</th>\n",
       "      <td>4522</td>\n",
       "    </tr>\n",
       "    <tr>\n",
       "      <th>5) inconclusive antagonist</th>\n",
       "      <td>2</td>\n",
       "    </tr>\n",
       "    <tr>\n",
       "      <th>7) inconclusive</th>\n",
       "      <td>860</td>\n",
       "    </tr>\n",
       "    <tr>\n",
       "      <th rowspan=\"2\" valign=\"top\">3) inconclusive antagonist</th>\n",
       "      <th>5) inconclusive antagonist</th>\n",
       "      <td>4454</td>\n",
       "    </tr>\n",
       "    <tr>\n",
       "      <th>7) inconclusive</th>\n",
       "      <td>2149</td>\n",
       "    </tr>\n",
       "    <tr>\n",
       "      <th>4) inconclusive</th>\n",
       "      <th>7) inconclusive</th>\n",
       "      <td>893</td>\n",
       "    </tr>\n",
       "    <tr>\n",
       "      <th>5) inactive</th>\n",
       "      <th>8) inactive</th>\n",
       "      <td>210059</td>\n",
       "    </tr>\n",
       "  </tbody>\n",
       "</table>"
      ],
      "text/plain": [
       "                                                                                               count\n",
       "Viability Activity         Activity                   Summary                                       \n",
       "                           0) active agonist          0) active agonist                         1793\n",
       "                                                      3) inconclusive agonist (fluorescent)      101\n",
       "                                                      7) inconclusive                            693\n",
       "                           1) inconclusive agonist    1) inconclusive agonist                   1018\n",
       "                                                      3) inconclusive agonist (fluorescent)       10\n",
       "                                                      7) inconclusive                            878\n",
       "                           2) active antagonist       4) active antagonist                       210\n",
       "                                                      7) inconclusive                            701\n",
       "                           3) inconclusive antagonist 5) inconclusive antagonist                 364\n",
       "                                                      7) inconclusive                            925\n",
       "                           4) inconclusive            7) inconclusive                            223\n",
       "                           5) inactive                8) inactive                              43955\n",
       "0) active agonist          0) active agonist          0) active agonist                          144\n",
       "                                                      1) inconclusive agonist                      1\n",
       "                                                      7) inconclusive                              5\n",
       "                           1) inconclusive agonist    1) inconclusive agonist                     69\n",
       "                                                      7) inconclusive                             12\n",
       "                           2) active antagonist       4) active antagonist                       120\n",
       "                           3) inconclusive antagonist 5) inconclusive antagonist                  43\n",
       "                                                      7) inconclusive                              2\n",
       "                           4) inconclusive            7) inconclusive                              5\n",
       "                           5) inactive                8) inactive                                393\n",
       "1) inconclusive agonist    0) active agonist          0) active agonist                          230\n",
       "                                                      1) inconclusive agonist                      3\n",
       "                                                      3) inconclusive agonist (fluorescent)        5\n",
       "                                                      7) inconclusive                             17\n",
       "                           1) inconclusive agonist    1) inconclusive agonist                    286\n",
       "                                                      3) inconclusive agonist (fluorescent)        3\n",
       "                                                      7) inconclusive                             87\n",
       "                           2) active antagonist       4) active antagonist                       254\n",
       "                                                      7) inconclusive                             20\n",
       "                           3) inconclusive antagonist 5) inconclusive antagonist                 169\n",
       "                                                      7) inconclusive                             54\n",
       "                           4) inconclusive            7) inconclusive                             54\n",
       "                           5) inactive                8) inactive                               5044\n",
       "2) active antagonist       0) active agonist          0) active agonist                         1723\n",
       "                                                      1) inconclusive agonist                     27\n",
       "                                                      2) inconclusive agonist (cytotoxic)        143\n",
       "                                                      3) inconclusive agonist (fluorescent)       24\n",
       "                                                      7) inconclusive                           1717\n",
       "                           1) inconclusive agonist    1) inconclusive agonist                    634\n",
       "                                                      2) inconclusive agonist (cytotoxic)        188\n",
       "                                                      3) inconclusive agonist (fluorescent)        3\n",
       "                                                      7) inconclusive                            831\n",
       "                           2) active antagonist       4) active antagonist                      2070\n",
       "                                                      6) inconclusive antagonist (cytotoxic)    6390\n",
       "                                                      7) inconclusive                            496\n",
       "                           3) inconclusive antagonist 5) inconclusive antagonist                 685\n",
       "                                                      6) inconclusive antagonist (cytotoxic)    1108\n",
       "                                                      7) inconclusive                            712\n",
       "                           4) inconclusive            7) inconclusive                            458\n",
       "                           5) inactive                8) inactive                               4619\n",
       "3) inconclusive antagonist 0) active agonist          0) active agonist                          995\n",
       "                                                      1) inconclusive agonist                     16\n",
       "                                                      2) inconclusive agonist (cytotoxic)         74\n",
       "                                                      3) inconclusive agonist (fluorescent)       21\n",
       "                                                      7) inconclusive                            371\n",
       "                           1) inconclusive agonist    1) inconclusive agonist                    573\n",
       "                                                      2) inconclusive agonist (cytotoxic)        135\n",
       "                                                      3) inconclusive agonist (fluorescent)        5\n",
       "                                                      7) inconclusive                            592\n",
       "                           2) active antagonist       4) active antagonist                      1059\n",
       "                                                      5) inconclusive antagonist                   1\n",
       "                                                      6) inconclusive antagonist (cytotoxic)    1684\n",
       "                                                      7) inconclusive                            266\n",
       "                           3) inconclusive antagonist 5) inconclusive antagonist                 699\n",
       "                                                      6) inconclusive antagonist (cytotoxic)     987\n",
       "                                                      7) inconclusive                            718\n",
       "                           4) inconclusive            7) inconclusive                            291\n",
       "                           5) inactive                8) inactive                               9002\n",
       "4) inconclusive            0) active agonist          0) active agonist                           51\n",
       "                                                      1) inconclusive agonist                      1\n",
       "                                                      3) inconclusive agonist (fluorescent)        3\n",
       "                                                      7) inconclusive                             16\n",
       "                           1) inconclusive agonist    1) inconclusive agonist                     40\n",
       "                                                      7) inconclusive                             46\n",
       "                           2) active antagonist       4) active antagonist                       126\n",
       "                                                      7) inconclusive                             22\n",
       "                           3) inconclusive antagonist 5) inconclusive antagonist                  83\n",
       "                                                      7) inconclusive                             37\n",
       "                           4) inconclusive            7) inconclusive                             30\n",
       "                           5) inactive                8) inactive                                833\n",
       "5) inactive                0) active agonist          0) active agonist                         8330\n",
       "                                                      1) inconclusive agonist                     93\n",
       "                                                      3) inconclusive agonist (fluorescent)      190\n",
       "                                                      7) inconclusive                            466\n",
       "                           1) inconclusive agonist    1) inconclusive agonist                   8778\n",
       "                                                      3) inconclusive agonist (fluorescent)       22\n",
       "                                                      7) inconclusive                           2252\n",
       "                           2) active antagonist       4) active antagonist                      4522\n",
       "                                                      5) inconclusive antagonist                   2\n",
       "                                                      7) inconclusive                            860\n",
       "                           3) inconclusive antagonist 5) inconclusive antagonist                4454\n",
       "                                                      7) inconclusive                           2149\n",
       "                           4) inconclusive            7) inconclusive                            893\n",
       "                           5) inactive                8) inactive                             210059"
      ]
     },
     "execution_count": 49,
     "metadata": {},
     "output_type": "execute_result"
    }
   ],
   "source": [
    "# Alternative view of contingent counts...\n",
    "\n",
    "hit_call_cols_2 = list(reversed(hit_call_cols))\n",
    "\n",
    "df = pivoted_df[hit_call_cols_2].copy()\n",
    "\n",
    "df['count'] = '' # NB Add dummy column for group-by count\n",
    "\n",
    "df = df.groupby(hit_call_cols_2).count().dropna() # NB Use of categorical variables introduces empty cells\n",
    "\n",
    "df['count'] = df['count'].astype(int) # Introduction of empty cells coerces column to float\n",
    "\n",
    "df"
   ]
  }
 ],
 "metadata": {
  "anaconda-cloud": {},
  "kernelspec": {
   "display_name": "Python 3",
   "language": "python",
   "name": "python3"
  },
  "language_info": {
   "codemirror_mode": {
    "name": "ipython",
    "version": 3
   },
   "file_extension": ".py",
   "mimetype": "text/x-python",
   "name": "python",
   "nbconvert_exporter": "python",
   "pygments_lexer": "ipython3",
   "version": "3.5.2"
  }
 },
 "nbformat": 4,
 "nbformat_minor": 2
}
