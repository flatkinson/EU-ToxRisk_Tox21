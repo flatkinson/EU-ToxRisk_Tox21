{
 "cells": [
  {
   "cell_type": "markdown",
   "metadata": {},
   "source": [
    "# Overlap of Tox21 compounds in PubChem with EU-ToxRisk case study compounds\n",
    "\n",
    "* See [here](./case_study_compounds.ipynb) for further details of the EU-ToxRisk case study compounds.\n",
    "\n",
    "* See [here](./Tox21_compounds.ipynb) for further details of the PubChem compounds."
   ]
  },
  {
   "cell_type": "markdown",
   "metadata": {},
   "source": [
    "### Configuration and Setup"
   ]
  },
  {
   "cell_type": "code",
   "execution_count": 1,
   "metadata": {
    "collapsed": false
   },
   "outputs": [],
   "source": [
    "%run setup.py"
   ]
  },
  {
   "cell_type": "code",
   "execution_count": 2,
   "metadata": {
    "collapsed": false
   },
   "outputs": [],
   "source": [
    "import sqlalchemy"
   ]
  },
  {
   "cell_type": "markdown",
   "metadata": {},
   "source": [
    "### Config"
   ]
  },
  {
   "cell_type": "code",
   "execution_count": 3,
   "metadata": {
    "collapsed": true
   },
   "outputs": [],
   "source": [
    "# ChEMBL database connection details...\n",
    "\n",
    "chembl = dict(\n",
    "      driver = 'oracle'\n",
    "    , host   = 'ora-vm5-023.ebi.ac.uk'\n",
    "    , port   =  1531\n",
    "    , dbname = 'chempro'\n",
    "    , user   = 'francis'\n",
    "    , passwd = 'francis'\n",
    ")\n",
    "\n",
    "# ChEMBL schema (version) to use...\n",
    "\n",
    "schema = 'chembl_22'"
   ]
  },
  {
   "cell_type": "code",
   "execution_count": 4,
   "metadata": {
    "collapsed": true
   },
   "outputs": [],
   "source": [
    "# Directory for reading and writing data files...\n",
    "\n",
    "data_dir = 'data'"
   ]
  },
  {
   "cell_type": "markdown",
   "metadata": {},
   "source": [
    "### Initialisation"
   ]
  },
  {
   "cell_type": "code",
   "execution_count": 5,
   "metadata": {
    "collapsed": false
   },
   "outputs": [],
   "source": [
    "if not 'logger' in locals(): logger = make_logger.run(__name__)"
   ]
  },
  {
   "cell_type": "code",
   "execution_count": 6,
   "metadata": {
    "collapsed": true
   },
   "outputs": [],
   "source": [
    "engine = sqlalchemy.create_engine(\"{driver}://{user}:{passwd}@{host}:{port}/{dbname}\".format(**chembl))"
   ]
  },
  {
   "cell_type": "markdown",
   "metadata": {},
   "source": [
    "### Reload compounds"
   ]
  },
  {
   "cell_type": "code",
   "execution_count": 7,
   "metadata": {
    "collapsed": false
   },
   "outputs": [
    {
     "data": {
      "text/plain": [
       "(14252, 7)"
      ]
     },
     "execution_count": 7,
     "metadata": {},
     "output_type": "execute_result"
    }
   ],
   "source": [
    "# Reload Tox21 compounds...\n",
    "\n",
    "sid_mols_df = pd.read_pickle(os.path.join(data_dir, './sid_mols.pkl'))\n",
    "\n",
    "sid_mols_df.shape"
   ]
  },
  {
   "cell_type": "code",
   "execution_count": 8,
   "metadata": {
    "collapsed": false
   },
   "outputs": [
    {
     "data": {
      "text/html": [
       "<table border=\"1\" class=\"dataframe\">\n",
       "  <thead>\n",
       "    <tr style=\"text-align: right;\">\n",
       "      <th></th>\n",
       "      <th>SID</th>\n",
       "      <th>CID</th>\n",
       "      <th>parent_CID</th>\n",
       "      <th>smiles</th>\n",
       "      <th>inchi</th>\n",
       "      <th>inchikey</th>\n",
       "      <th>mol</th>\n",
       "    </tr>\n",
       "  </thead>\n",
       "  <tbody>\n",
       "    <tr>\n",
       "      <th>0</th>\n",
       "      <td>312345403</td>\n",
       "      <td>6436006</td>\n",
       "      <td>5365247</td>\n",
       "      <td>CN(C)C/C=C(/C1=CC=C(C=C1)Br)\\C2=CN=CC=C2</td>\n",
       "      <td>InChI=1S/C16H17BrN2/c1-19(2)11-9-16(14-4-3-10-18-12-14)13-5-7-15(17)8-6-13/h3-10,12H,11H2,1-2H3/b16-9-</td>\n",
       "      <td>OYPPVKRFBIWMSX-SXGWCWSVSA-N</td>\n",
       "      <td><img src=\"data:image/png;base64,iVBORw0KGgoAAAANSUhEUgAAAMgAAADICAIAAAAiOjnJAAAFbklEQVR4nO3dUXabSBRF0SIrk0jGlIwpnpPn5GmQD9kKBkwk6t3ivqqzP3ql3R1ZgsMDISFN8zwXINq3q+8A+kRYkCAsSBAWJAgLEoQFCcKCBGFBgrAgQViQICxIEBYkCAsShAUJwoIEYUGCsCBBWJAgLEgQFiQICxKEBQnCggRhQYKwIEFYkCAsSBAWJAgLEoQFCcKCBGFBgrAgQViQICxIEBYkCAsShAUJwoIEYUGCsCBBWJAgLEi4hzVN09V3AWe4h4WkrMOapokvJ0vKOizk5RsW4yo137CQmmlYjKvsTMNCdrZhMa5ycwxrmgq7wewcw0IH7MJiXPXBLiz0wSssxlU3vMJCN7zCYlx1wyssdIOwIEFYkCAsSHxv+ctW71+f50/nFzjX0JP4sD5f/vCplN1u6KlLMWEtY3r2fVSruYU+xITFm/KwYnHwfhta6IlFWIVz7t25OKxlT8unh8iu6emGB3E4v1TzxOhCjmGVUdva/aCKZUyJLl4yDat7/20oO+stoLOhFbJTyzK0XJ4V7prn3j7GaP5QcwsplkmC/LNso8eefRSrelZ/13+ZcIx1sa/Gj3k3/+Ue/o3/Bnpsef+PR9G52zRkfeeWTizH7TC46sGKInBuK/eu8PgwdrvQL1kTzqtfJ9NjDplA7Vez9DfaVptpYnkuwWPqFX87+2C4ZKzPY0VZnZlMcR7ocZ6PaIiwVou+2ZrwnCVtDBHWludWfprhw8l0jFWj/bFI419X/wBffv98/8PrW/39GSWssln0toe9pz34iO4Bvf/rIqPbn19+/3x5fbv98/SdGSis0rAtk2Tv+8c/v37cf3iQy625+/9Q09ZYYW11MLe2m8r9Pz37uJYTq9TtE4cLq0FJl5fqsJ0MF1bp62Brdc9Djt9DDt6zLtBK2xUQ1da1zz19thDOY335k6dMH7Y/P32bj/xSz6rKmLvCm9N7wKeupUm9n60x4mNeOt7oz11Lo9vPHtymW77jTqxdlU/XlzditZrbG/QY62730Cr8Whr1a3mGHY8eVpFdaixty7CkFcJqRzS3PCMjrH/C19BQJa0Qlpb6YMs2MsJ6p1tDsW3ZlrRCWBeImlvOkRFWKa2upam/HeeSVgirkfCDLfPICOuyNXSiLeeSVgirnd23VJy7KfNxVXitMNe1NG7XeB0YPaz2Hmwr+4eUDh2WyQ4le0O7hg7rKiFvzjFnsclewmRc9YpnhZAYNCzGldpYx1iJnq5n121YT11Lg3A9hNXl0/Xssm61IU/XGVo6iSdWfRNcp6WTcrHWf5kAB1tqiSfWrl6/miadfBvr8VXw5x4OQytc+okVEgQHW+GSnXln9WeRLKxSVFWpP15hNOnCEqKtQJnCavDd47QVJVNYSCRNWA3G1Q1DK0SasFqirXo5wmo2ru5oq1KOsJBOjrBajqv7oGJo1cgRFtIhrE+WLxnx8lENwoIEYf3DuArkG9byuJlj6HR8wypte2JcxbIOa56ZVVlZh4W83MP6amjFTjL2g+HcwyqL0+7LmNhLmku2da5ejQ55cZpxpZBgYiGjZGGt9oD1O0RGlEiysMp+WzFHW0QWKF9YW6ff30JJOinD2k6p7r+aJp2UYZWgd+FRkk7WsLZqUmNchcu9QCuD6P5T/C+UO6zyWFt8aFZ76T/GaIUPujWRfmIV9miWeggLhvp5VggrhAUJwoIEYUGCsCBBWJAgLEgQFiQICxKEBQnCggRhQYKwIEFYkCAsSBAWJAgLEoQFCcKCBGFBgrAgQViQICxIEBYkCAsShAUJwoIEYUGCsCBBWJAgLEgQFiQICxKEBQnCggRhQYKwIEFYkCAsSBAWJAgLEoQFCcKCxF9DTgemZ0oLxQAAAABJRU5ErkJggg==\" alt=\"Mol\"/></td>\n",
       "    </tr>\n",
       "  </tbody>\n",
       "</table>"
      ],
      "text/plain": [
       "         SID      CID  parent_CID                                    smiles                                                                                                   inchi                     inchikey                                                                                                                                                                                                                                                                                                                                                                                                                                                                                                                                                                                                                                                                                                                                                                                                                                                                                                                                                                                                                                                                                                                                                                                                                                                                                                                                                                                                                                                                                                                                                                                                                                                                                                                                                                                                                                                                                                                                                                                                                                                        mol\n",
       "0  312345403  6436006     5365247  CN(C)C/C=C(/C1=CC=C(C=C1)Br)\\C2=CN=CC=C2  InChI=1S/C16H17BrN2/c1-19(2)11-9-16(14-4-3-10-18-12-14)13-5-7-15(17)8-6-13/h3-10,12H,11H2,1-2H3/b16-9-  OYPPVKRFBIWMSX-SXGWCWSVSA-N  <img src=\"data:image/png;base64,iVBORw0KGgoAAAANSUhEUgAAAMgAAADICAIAAAAiOjnJAAAFbklEQVR4nO3dUXabSBRF0SIrk0jGlIwpnpPn5GmQD9kKBkwk6t3ivqqzP3ql3R1ZgsMDISFN8zwXINq3q+8A+kRYkCAsSBAWJAgLEoQFCcKCBGFBgrAgQViQICxIEBYkCAsShAUJwoIEYUGCsCBBWJAgLEgQFiQICxKEBQnCggRhQYKwIEFYkCAsSBAWJAgLEoQFCcKCBGFBgrAgQViQICxIEBYkCAsShAUJwoIEYUGCsCBBWJAgLEi4hzVN09V3AWe4h4WkrMOapokvJ0vKOizk5RsW4yo137CQmmlYjKvsTMNCdrZhMa5ycwxrmgq7wewcw0IH7MJiXPXBLiz0wSssxlU3vMJCN7zCYlx1wyssdIOwIEFYkCAsSHxv+ctW71+f50/nFzjX0JP4sD5f/vCplN1u6KlLMWEtY3r2fVSruYU+xITFm/KwYnHwfhta6IlFWIVz7t25OKxlT8unh8iu6emGB3E4v1TzxOhCjmGVUdva/aCKZUyJLl4yDat7/20oO+stoLOhFbJTyzK0XJ4V7prn3j7GaP5QcwsplkmC/LNso8eefRSrelZ/13+ZcIx1sa/Gj3k3/+Ue/o3/Bnpsef+PR9G52zRkfeeWTizH7TC46sGKInBuK/eu8PgwdrvQL1kTzqtfJ9NjDplA7Vez9DfaVptpYnkuwWPqFX87+2C4ZKzPY0VZnZlMcR7ocZ6PaIiwVou+2ZrwnCVtDBHWludWfprhw8l0jFWj/bFI419X/wBffv98/8PrW/39GSWssln0toe9pz34iO4Bvf/rIqPbn19+/3x5fbv98/SdGSis0rAtk2Tv+8c/v37cf3iQy625+/9Q09ZYYW11MLe2m8r9Pz37uJYTq9TtE4cLq0FJl5fqsJ0MF1bp62Brdc9Djt9DDt6zLtBK2xUQ1da1zz19thDOY335k6dMH7Y/P32bj/xSz6rKmLvCm9N7wKeupUm9n60x4mNeOt7oz11Lo9vPHtymW77jTqxdlU/XlzditZrbG/QY62730Cr8Whr1a3mGHY8eVpFdaixty7CkFcJqRzS3PCMjrH/C19BQJa0Qlpb6YMs2MsJ6p1tDsW3ZlrRCWBeImlvOkRFWKa2upam/HeeSVgirkfCDLfPICOuyNXSiLeeSVgirnd23VJy7KfNxVXitMNe1NG7XeB0YPaz2Hmwr+4eUDh2WyQ4le0O7hg7rKiFvzjFnsclewmRc9YpnhZAYNCzGldpYx1iJnq5n121YT11Lg3A9hNXl0/Xssm61IU/XGVo6iSdWfRNcp6WTcrHWf5kAB1tqiSfWrl6/miadfBvr8VXw5x4OQytc+okVEgQHW+GSnXln9WeRLKxSVFWpP15hNOnCEqKtQJnCavDd47QVJVNYSCRNWA3G1Q1DK0SasFqirXo5wmo2ru5oq1KOsJBOjrBajqv7oGJo1cgRFtIhrE+WLxnx8lENwoIEYf3DuArkG9byuJlj6HR8wypte2JcxbIOa56ZVVlZh4W83MP6amjFTjL2g+HcwyqL0+7LmNhLmku2da5ejQ55cZpxpZBgYiGjZGGt9oD1O0RGlEiysMp+WzFHW0QWKF9YW6ff30JJOinD2k6p7r+aJp2UYZWgd+FRkk7WsLZqUmNchcu9QCuD6P5T/C+UO6zyWFt8aFZ76T/GaIUPujWRfmIV9miWeggLhvp5VggrhAUJwoIEYUGCsCBBWJAgLEgQFiQICxKEBQnCggRhQYKwIEFYkCAsSBAWJAgLEoQFCcKCBGFBgrAgQViQICxIEBYkCAsShAUJwoIEYUGCsCBBWJAgLEgQFiQICxKEBQnCggRhQYKwIEFYkCAsSBAWJAgLEoQFCcKCxF9DTgemZ0oLxQAAAABJRU5ErkJggg==\" alt=\"Mol\"/>"
      ]
     },
     "execution_count": 8,
     "metadata": {},
     "output_type": "execute_result"
    }
   ],
   "source": [
    "sid_mols_df.head(1)"
   ]
  },
  {
   "cell_type": "code",
   "execution_count": 9,
   "metadata": {
    "collapsed": false
   },
   "outputs": [
    {
     "data": {
      "text/plain": [
       "(176, 13)"
      ]
     },
     "execution_count": 9,
     "metadata": {},
     "output_type": "execute_result"
    }
   ],
   "source": [
    "# Load case-study compounds (from Anne)...\n",
    "\n",
    "cs_cmpds_df = pd.read_pickle(os.path.join(data_dir, './case_study_compounds.pkl'))\n",
    "\n",
    "cs_cmpds_df.shape"
   ]
  },
  {
   "cell_type": "code",
   "execution_count": 10,
   "metadata": {
    "collapsed": false
   },
   "outputs": [
    {
     "data": {
      "text/html": [
       "<table border=\"1\" class=\"dataframe\">\n",
       "  <thead>\n",
       "    <tr style=\"text-align: right;\">\n",
       "      <th></th>\n",
       "      <th>CAS</th>\n",
       "      <th>name</th>\n",
       "      <th>smiles</th>\n",
       "      <th>inchi</th>\n",
       "      <th>inchikey</th>\n",
       "      <th>Case Study 1</th>\n",
       "      <th>Case Study 2</th>\n",
       "      <th>Case Study 3</th>\n",
       "      <th>Case Study 4</th>\n",
       "      <th>Case Study 5</th>\n",
       "      <th>Case Study 6</th>\n",
       "      <th>Case Study 7</th>\n",
       "      <th>mol</th>\n",
       "    </tr>\n",
       "  </thead>\n",
       "  <tbody>\n",
       "    <tr>\n",
       "      <th>0</th>\n",
       "      <td></td>\n",
       "      <td>2,2-dimethyl-pentanoic acid</td>\n",
       "      <td>CCCC(C)(C)C(=O)O</td>\n",
       "      <td>InChI=1S/C7H14O2/c1-4-5-7(2,3)6(8)9/h4-5H2,1-3H3,(H,8,9)</td>\n",
       "      <td>ZRYCZAWRXHAAPZ-UHFFFAOYSA-N</td>\n",
       "      <td>✗</td>\n",
       "      <td>✓</td>\n",
       "      <td>✗</td>\n",
       "      <td>✗</td>\n",
       "      <td>✗</td>\n",
       "      <td>✗</td>\n",
       "      <td>✗</td>\n",
       "      <td><img src=\"data:image/png;base64,iVBORw0KGgoAAAANSUhEUgAAAMgAAADICAIAAAAiOjnJAAAEOUlEQVR4nO3dXXPaOhSGUftM//9f9rlgSgjmw8V+pW2x1vSiSTsT133YkoC087IsExztv94XwJiERYSwiBAWEcIiQlhECIsIYREhLCKERYSwiBAWEcIiQlhECIsIYREhLCKERYSwiBAWEcIiQlhECIsIYREhLCKERYSwiBAWEcIiQlhECIsIYREhLCKERYSwiBAWEcIiQlhECIsIYREhLCKERYSwiBAWEcIiQlhECIsIYREhLCKERYSwiBAWEcIiQlhECIsIYREhLCL+9L4AMub55+fL0v7rC2tE8/wrprsPm7AUDmed0bL8GmBNCIsIYREhLCKERYSwhrPeqvc4FXq6YUR3bXkei8P0iOmWpZAIYQ2k+bOgLwiLCGHtNVeaEw90ujxhjaLHcwovCGuvZVmqD60ehDW0fmNMWEQIawjFNliTsA5hm7UmrHF1HWPCIkJY51dvgzUJ6yi2WXeEdXqPc+49xoRFhLDObZ7n5dFk6r4qC+swtlm3hDWgZ2OsJWERIawTqzCZnhHWkWyzrk4T1jzP/s62KDLGSn9f4W1Jl5tV5K7xVsWwrj2tG7qsNZXbanaFxe9DobBe9HSrfltM3cNaL3ZbaOuZOrelT1gbh9ML2rpuOqcdtzGnXVifDacXyraVvrBTnGniYe0fTi+UbSvh7Znm4S/1kgor2tOt4dvafqaZKo2uI8M6fLHbaLy2Pr6TdW7FMRdRYQ4XuaFXH1zPUWO+wq3ofwUHqnBDrzZeTGjMd3+oF3qCdL86C8Fb6T1o9y3XUGFNJc9Ht5qdaX6+SqfvqjjH4/sDFUbX5Rp6nWlur6N9W/3vfk7fthoPpzeat3Wa92N9oMvb7ua/Lj2VqGrq8B+AjTyxLhrMrReLXYUV+UfDuTXa5n0td1Sstdht0XAvP35Y09Ftna+nW63a+oqwpt1t9T/ZHahJW5V2AHn/2tYhw6nWNusq3Na3TKyLjXPr3IvdRuG59V1hTc/bGmqx2yj5xyw5pfOubbUZTkVXw6Svm1gXxV9SHMCXhjVJKmzkl3TqOMe/6TDPPz/uPr/+ne9878Til7sT4u4Do4nFo4x2v2gtLCIshY2c6G3TD/z79BIWG9w9HjZ0ZikkQljt1H3SYb1V330qtBQyTdOqrd17QWHx17OY1p/fkJ2lkAhhNVV3m3U0YREhLCKE1dqXrIbCIkJYRAirg29YDYVFhLCIEBYRwupj+G2WsIgQVjdnfZvyNsIiQlhECIsIYREhLCKERYSwiBAWEcIiQlhECIsIYREhLCKERYSwiBAWEcIiQlhECIsIYREhLCKERYSwiBAWEcIiQlhECIsIYREhLCKERYSwiBAWEcIiQlhECIsIYREhLCKERYSwiBAWEcIiQlhECIsIYREhLCKERYSwiBAWEcIiQlhECIsIYREhLCKERYSwiBAWEcIiQlhECIuI/wGPWMtvdnRfMwAAAABJRU5ErkJggg==\" alt=\"Mol\"/></td>\n",
       "    </tr>\n",
       "  </tbody>\n",
       "</table>"
      ],
      "text/plain": [
       "  CAS                         name            smiles                                                     inchi                     inchikey Case Study 1 Case Study 2 Case Study 3 Case Study 4 Case Study 5 Case Study 6 Case Study 7                                                                                                                                                                                                                                                                                                                                                                                                                                                                                                                                                                                                                                                                                                                                                                                                                                                                                                                                                                                                                                                                                                                                                                                                                                                                                                                                                                                                                                                                                                                                                                                                                            mol\n",
       "0      2,2-dimethyl-pentanoic acid  CCCC(C)(C)C(=O)O  InChI=1S/C7H14O2/c1-4-5-7(2,3)6(8)9/h4-5H2,1-3H3,(H,8,9)  ZRYCZAWRXHAAPZ-UHFFFAOYSA-N            ✗            ✓            ✗            ✗            ✗            ✗            ✗  <img src=\"data:image/png;base64,iVBORw0KGgoAAAANSUhEUgAAAMgAAADICAIAAAAiOjnJAAAEOUlEQVR4nO3dXXPaOhSGUftM//9f9rlgSgjmw8V+pW2x1vSiSTsT133YkoC087IsExztv94XwJiERYSwiBAWEcIiQlhECIsIYREhLCKERYSwiBAWEcIiQlhECIsIYREhLCKERYSwiBAWEcIiQlhECIsIYREhLCKERYSwiBAWEcIiQlhECIsIYREhLCKERYSwiBAWEcIiQlhECIsIYREhLCKERYSwiBAWEcIiQlhECIsIYREhLCKERYSwiBAWEcIiQlhECIsIYREhLCL+9L4AMub55+fL0v7rC2tE8/wrprsPm7AUDmed0bL8GmBNCIsIYREhLCKERYSwhrPeqvc4FXq6YUR3bXkei8P0iOmWpZAIYQ2k+bOgLwiLCGHtNVeaEw90ujxhjaLHcwovCGuvZVmqD60ehDW0fmNMWEQIawjFNliTsA5hm7UmrHF1HWPCIkJY51dvgzUJ6yi2WXeEdXqPc+49xoRFhLDObZ7n5dFk6r4qC+swtlm3hDWgZ2OsJWERIawTqzCZnhHWkWyzrk4T1jzP/s62KDLGSn9f4W1Jl5tV5K7xVsWwrj2tG7qsNZXbanaFxe9DobBe9HSrfltM3cNaL3ZbaOuZOrelT1gbh9ML2rpuOqcdtzGnXVifDacXyraVvrBTnGniYe0fTi+UbSvh7Znm4S/1kgor2tOt4dvafqaZKo2uI8M6fLHbaLy2Pr6TdW7FMRdRYQ4XuaFXH1zPUWO+wq3ofwUHqnBDrzZeTGjMd3+oF3qCdL86C8Fb6T1o9y3XUGFNJc9Ht5qdaX6+SqfvqjjH4/sDFUbX5Rp6nWlur6N9W/3vfk7fthoPpzeat3Wa92N9oMvb7ua/Lj2VqGrq8B+AjTyxLhrMrReLXYUV+UfDuTXa5n0td1Sstdht0XAvP35Y09Ftna+nW63a+oqwpt1t9T/ZHahJW5V2AHn/2tYhw6nWNusq3Na3TKyLjXPr3IvdRuG59V1hTc/bGmqx2yj5xyw5pfOubbUZTkVXw6Svm1gXxV9SHMCXhjVJKmzkl3TqOMe/6TDPPz/uPr/+ne9878Til7sT4u4Do4nFo4x2v2gtLCIshY2c6G3TD/z79BIWG9w9HjZ0ZikkQljt1H3SYb1V330qtBQyTdOqrd17QWHx17OY1p/fkJ2lkAhhNVV3m3U0YREhLCKE1dqXrIbCIkJYRAirg29YDYVFhLCIEBYRwupj+G2WsIgQVjdnfZvyNsIiQlhECIsIYREhLCKERYSwiBAWEcIiQlhECIsIYREhLCKERYSwiBAWEcIiQlhECIsIYREhLCKERYSwiBAWEcIiQlhECIsIYREhLCKERYSwiBAWEcIiQlhECIsIYREhLCKERYSwiBAWEcIiQlhECIsIYREhLCKERYSwiBAWEcIiQlhECIsIYREhLCKERYSwiBAWEcIiQlhECIuI/wGPWMtvdnRfMwAAAABJRU5ErkJggg==\" alt=\"Mol\"/>"
      ]
     },
     "execution_count": 10,
     "metadata": {},
     "output_type": "execute_result"
    }
   ],
   "source": [
    "cs_cmpds_df.head(1)"
   ]
  },
  {
   "cell_type": "code",
   "execution_count": 11,
   "metadata": {
    "collapsed": false
   },
   "outputs": [
    {
     "data": {
      "text/plain": [
       "176"
      ]
     },
     "execution_count": 11,
     "metadata": {},
     "output_type": "execute_result"
    }
   ],
   "source": [
    "case_study_inchikeys = set(cs_cmpds_df['inchikey'])\n",
    "\n",
    "len(case_study_inchikeys)"
   ]
  },
  {
   "cell_type": "code",
   "execution_count": 12,
   "metadata": {
    "collapsed": false
   },
   "outputs": [
    {
     "data": {
      "text/plain": [
       "9107"
      ]
     },
     "execution_count": 12,
     "metadata": {},
     "output_type": "execute_result"
    }
   ],
   "source": [
    "tox21_inchikeys = set(sid_mols_df['inchikey'])\n",
    "\n",
    "len(tox21_inchikeys)"
   ]
  },
  {
   "cell_type": "code",
   "execution_count": 13,
   "metadata": {
    "collapsed": false
   },
   "outputs": [
    {
     "data": {
      "text/plain": [
       "7868"
      ]
     },
     "execution_count": 13,
     "metadata": {},
     "output_type": "execute_result"
    }
   ],
   "source": [
    "chembl_inchikeys = set(x['inchikey'] for x in engine.execute(\"\"\"\n",
    "select distinct\n",
    "  d.standard_inchi_key as inchikey\n",
    "from\n",
    "       {schema}.assays              a\n",
    "  join {schema}.activities          b on a.assay_id = b.assay_id\n",
    "  join {schema}.molecule_hierarchy  c on b.molregno = c.molregno\n",
    "  join {schema}.compound_structures d on c.parent_molregno = d.molregno\n",
    "where\n",
    "  a.description like 'PubChem BioAssay: Tox21. %%'\n",
    "\"\"\".format(schema=schema)).fetchall())\n",
    "\n",
    "len(chembl_inchikeys)"
   ]
  },
  {
   "cell_type": "code",
   "execution_count": 14,
   "metadata": {
    "collapsed": false
   },
   "outputs": [
    {
     "data": {
      "text/plain": [
       "108"
      ]
     },
     "execution_count": 14,
     "metadata": {},
     "output_type": "execute_result"
    }
   ],
   "source": [
    "case_study_and_tox21 = case_study_inchikeys.intersection(tox21_inchikeys)\n",
    "\n",
    "len(case_study_and_tox21)"
   ]
  },
  {
   "cell_type": "code",
   "execution_count": 15,
   "metadata": {
    "collapsed": false
   },
   "outputs": [
    {
     "data": {
      "text/plain": [
       "112"
      ]
     },
     "execution_count": 15,
     "metadata": {},
     "output_type": "execute_result"
    }
   ],
   "source": [
    "case_study_and_chembl = case_study_inchikeys.intersection(chembl_inchikeys)\n",
    "\n",
    "len(case_study_and_chembl)"
   ]
  },
  {
   "cell_type": "markdown",
   "metadata": {},
   "source": [
    "One compound in the case study compound set is not in the ChEMBL set..."
   ]
  },
  {
   "cell_type": "code",
   "execution_count": 16,
   "metadata": {
    "collapsed": false
   },
   "outputs": [
    {
     "data": {
      "text/plain": [
       "{'QCDYQQDYXPDABM-UHFFFAOYSA-N'}"
      ]
     },
     "execution_count": 16,
     "metadata": {},
     "output_type": "execute_result"
    }
   ],
   "source": [
    "case_study_and_tox21.difference(case_study_and_chembl)"
   ]
  },
  {
   "cell_type": "markdown",
   "metadata": {
    "collapsed": false
   },
   "source": [
    "Five compounds in the case study compound set is not in the ChEMBL set..."
   ]
  },
  {
   "cell_type": "code",
   "execution_count": 17,
   "metadata": {
    "collapsed": false
   },
   "outputs": [
    {
     "data": {
      "text/plain": [
       "{'JQXXHWHPUNPDRT-WLSIYKJHSA-N',\n",
       " 'NXFQHRVNIOXGAQ-YCRREMRBSA-N',\n",
       " 'UIFFUZWRFRDZJC-SBOOETFBSA-N',\n",
       " 'USMZPYXTVKAYST-UHFFFAOYSA-N',\n",
       " 'XMAYWYJOQHXEEK-ZEQKJWHPSA-N'}"
      ]
     },
     "execution_count": 17,
     "metadata": {},
     "output_type": "execute_result"
    }
   ],
   "source": [
    "case_study_and_chembl.difference(case_study_and_tox21)"
   ]
  },
  {
   "cell_type": "markdown",
   "metadata": {},
   "source": [
    "Of these five, four are only recorded in ChEMBL as having been tested in cell viability assays..."
   ]
  },
  {
   "cell_type": "code",
   "execution_count": 18,
   "metadata": {
    "collapsed": false
   },
   "outputs": [
    {
     "data": {
      "text/html": [
       "<table border=\"1\" class=\"dataframe\">\n",
       "  <thead>\n",
       "    <tr style=\"text-align: right;\">\n",
       "      <th></th>\n",
       "      <th>inchikey</th>\n",
       "      <th>src_compound_id</th>\n",
       "      <th>description</th>\n",
       "    </tr>\n",
       "  </thead>\n",
       "  <tbody>\n",
       "    <tr>\n",
       "      <th>0</th>\n",
       "      <td>USMZPYXTVKAYST-UHFFFAOYSA-N</td>\n",
       "      <td>26757136</td>\n",
       "      <td>PubChem BioAssay: Tox21. qHTS assay for cell viability of HEK293 cells.   (Class of assay: confirmatory)</td>\n",
       "    </tr>\n",
       "    <tr>\n",
       "      <th>1</th>\n",
       "      <td>USMZPYXTVKAYST-UHFFFAOYSA-N</td>\n",
       "      <td>26757136</td>\n",
       "      <td>PubChem BioAssay: Tox21. qHTS assay for cell viability of the p53RE-bla HCT-116 cell line.   (Class of assay: confirmatory)</td>\n",
       "    </tr>\n",
       "    <tr>\n",
       "      <th>2</th>\n",
       "      <td>NXFQHRVNIOXGAQ-YCRREMRBSA-N</td>\n",
       "      <td>17389788</td>\n",
       "      <td>PubChem BioAssay: Tox21. qHTS assay for cell viability of HEK293 cells.   (Class of assay: confirmatory)</td>\n",
       "    </tr>\n",
       "    <tr>\n",
       "      <th>3</th>\n",
       "      <td>XMAYWYJOQHXEEK-ZEQKJWHPSA-N</td>\n",
       "      <td>26752071</td>\n",
       "      <td>PubChem BioAssay: Tox21. qHTS assay for cell viability of HEK293 cells.   (Class of assay: confirmatory)</td>\n",
       "    </tr>\n",
       "    <tr>\n",
       "      <th>4</th>\n",
       "      <td>UIFFUZWRFRDZJC-SBOOETFBSA-N</td>\n",
       "      <td>26754306</td>\n",
       "      <td>PubChem BioAssay: Tox21. qHTS assay for cell viability of the p53RE-bla HCT-116 cell line.   (Class of assay: confirmatory)</td>\n",
       "    </tr>\n",
       "  </tbody>\n",
       "</table>"
      ],
      "text/plain": [
       "                      inchikey src_compound_id                                                                                                                   description\n",
       "0  USMZPYXTVKAYST-UHFFFAOYSA-N        26757136                     PubChem BioAssay: Tox21. qHTS assay for cell viability of HEK293 cells.   (Class of assay: confirmatory) \n",
       "1  USMZPYXTVKAYST-UHFFFAOYSA-N        26757136  PubChem BioAssay: Tox21. qHTS assay for cell viability of the p53RE-bla HCT-116 cell line.   (Class of assay: confirmatory) \n",
       "2  NXFQHRVNIOXGAQ-YCRREMRBSA-N        17389788                     PubChem BioAssay: Tox21. qHTS assay for cell viability of HEK293 cells.   (Class of assay: confirmatory) \n",
       "3  XMAYWYJOQHXEEK-ZEQKJWHPSA-N        26752071                     PubChem BioAssay: Tox21. qHTS assay for cell viability of HEK293 cells.   (Class of assay: confirmatory) \n",
       "4  UIFFUZWRFRDZJC-SBOOETFBSA-N        26754306  PubChem BioAssay: Tox21. qHTS assay for cell viability of the p53RE-bla HCT-116 cell line.   (Class of assay: confirmatory) "
      ]
     },
     "execution_count": 18,
     "metadata": {},
     "output_type": "execute_result"
    }
   ],
   "source": [
    "sql = \"\"\"\n",
    "select distinct\n",
    "    d.standard_inchi_key as inchikey\n",
    "  , e.src_compound_id\n",
    "  , a.description\n",
    "from\n",
    "       chembl_22.assays              a\n",
    "  join chembl_22.activities          b on a.assay_id = b.assay_id\n",
    "  join chembl_22.molecule_hierarchy  c on b.molregno = c.molregno\n",
    "  join chembl_22.compound_structures d on c.parent_molregno = d.molregno\n",
    "  join chembl_22.compound_records    e on b.record_id = e.record_id\n",
    "where\n",
    "  a.description like 'PubChem BioAssay: Tox21. %%'\n",
    "and\n",
    "  d.standard_inchi_key in ({inchikeys})\n",
    "\"\"\"\n",
    "\n",
    "inchikeys = ('NXFQHRVNIOXGAQ-YCRREMRBSA-N', 'UIFFUZWRFRDZJC-SBOOETFBSA-N', 'USMZPYXTVKAYST-UHFFFAOYSA-N', 'XMAYWYJOQHXEEK-ZEQKJWHPSA-N')\n",
    "\n",
    "pd.read_sql_query(sql.format(inchikeys=','.join(\"'{}'\".format(x) for x in inchikeys)), engine)"
   ]
  },
  {
   "cell_type": "markdown",
   "metadata": {},
   "source": [
    "Thus, presumably, for some reason they have not been tested in primary activity assays and thus do not appear in the Summary assays we are interested in here."
   ]
  },
  {
   "cell_type": "markdown",
   "metadata": {},
   "source": [
    "By contrast, the other inchikey, **`JQXXHWHPUNPDRT-WLSIYKJHSA-N`**, is recorded in ChEMBL as having been tested in numerous assays..."
   ]
  },
  {
   "cell_type": "code",
   "execution_count": 19,
   "metadata": {
    "collapsed": false
   },
   "outputs": [
    {
     "data": {
      "text/plain": [
       "(54, 3)"
      ]
     },
     "execution_count": 19,
     "metadata": {},
     "output_type": "execute_result"
    }
   ],
   "source": [
    "pd.read_sql_query(sql.format(inchikeys=\"'JQXXHWHPUNPDRT-WLSIYKJHSA-N'\"), engine).shape"
   ]
  },
  {
   "cell_type": "markdown",
   "metadata": {},
   "source": [
    "This compound is actually Rifampicim, and is discussed in more detail below."
   ]
  },
  {
   "cell_type": "markdown",
   "metadata": {},
   "source": [
    "### Rifampicin"
   ]
  },
  {
   "cell_type": "markdown",
   "metadata": {},
   "source": [
    "The version of Rifampicin in the case study compound set is taken from ChEMBL (**`CHEMBL374478`**) and has InChI Key **`JQXXHWHPUNPDRT-WLSIYKJHSA-N`**..."
   ]
  },
  {
   "cell_type": "code",
   "execution_count": 20,
   "metadata": {
    "collapsed": false
   },
   "outputs": [
    {
     "data": {
      "text/plain": [
       "['rifampicin']"
      ]
     },
     "execution_count": 20,
     "metadata": {},
     "output_type": "execute_result"
    }
   ],
   "source": [
    "cs_cmpds_df.query(\"inchikey == 'JQXXHWHPUNPDRT-WLSIYKJHSA-N'\")['name'].tolist()"
   ]
  },
  {
   "cell_type": "code",
   "execution_count": 21,
   "metadata": {
    "collapsed": true
   },
   "outputs": [],
   "source": [
    "HTML('''<iframe src=\"https://www.ebi.ac.uk/chembl/compound/inspect/{chemblid}\" width=1000 height=750></iframe>'''.format(chemblid='CHEMBL374478'))"
   ]
  },
  {
   "cell_type": "markdown",
   "metadata": {},
   "source": [
    "However, the version of Rifampicin in PubChem, **`CID5458213`**, has InChI Key **`FZYOVNIOYYPUPY-UXKYPCFPSA-N`**..."
   ]
  },
  {
   "cell_type": "code",
   "execution_count": 22,
   "metadata": {
    "collapsed": false
   },
   "outputs": [
    {
     "data": {
      "text/plain": [
       "[5458213]"
      ]
     },
     "execution_count": 22,
     "metadata": {},
     "output_type": "execute_result"
    }
   ],
   "source": [
    "sid_mols_df.query(\"inchikey == 'FZYOVNIOYYPUPY-UXKYPCFPSA-N'\")['CID'].unique().tolist()"
   ]
  },
  {
   "cell_type": "code",
   "execution_count": 23,
   "metadata": {
    "collapsed": true
   },
   "outputs": [],
   "source": [
    "HTML('''<iframe src=\"https://pubchem.ncbi.nlm.nih.gov/compound/{cid}\" width=1000 height=750></iframe>'''.format(cid=5458213))"
   ]
  },
  {
   "cell_type": "markdown",
   "metadata": {},
   "source": [
    "There is thus a mismatch between the stuctures (and hence InChI Keys) for Rifampicin in the case study compound set and PubChem.\n",
    "\n",
    "Essentially, the InChI Key for Rifampicin is **`JQXXHWHPUNPDRT-WLSIYKJHSA-N`** in ChEMBL (and hence the case-study file from Anne) and **`FZYOVNIOYYPUPY-UXKYPCFPSA-N`** in PubChem..."
   ]
  },
  {
   "cell_type": "code",
   "execution_count": 24,
   "metadata": {
    "collapsed": false
   },
   "outputs": [
    {
     "data": {
      "text/plain": [
       "(1, 0)"
      ]
     },
     "execution_count": 24,
     "metadata": {},
     "output_type": "execute_result"
    }
   ],
   "source": [
    "# Query Case Study compounds table and PubChem substance/compound table with 'ChEMBL' InChI Key...\n",
    "\n",
    "inchikey = 'JQXXHWHPUNPDRT-WLSIYKJHSA-N'\n",
    "\n",
    "cs_cmpds_df.query(\"inchikey == @inchikey\").shape[0], sid_mols_df.query(\"inchikey == @inchikey\").shape[0]"
   ]
  },
  {
   "cell_type": "code",
   "execution_count": 25,
   "metadata": {
    "collapsed": false
   },
   "outputs": [
    {
     "data": {
      "text/plain": [
       "(0, 4)"
      ]
     },
     "execution_count": 25,
     "metadata": {},
     "output_type": "execute_result"
    }
   ],
   "source": [
    "# Query Case Study compounds table and PubChem substance/compound table with 'PubChem' InChI Key...\n",
    "\n",
    "inchikey = 'FZYOVNIOYYPUPY-UXKYPCFPSA-N'\n",
    "\n",
    "cs_cmpds_df.query(\"inchikey == @inchikey\").shape[0], sid_mols_df.query(\"inchikey == @inchikey\").shape[0]"
   ]
  },
  {
   "cell_type": "markdown",
   "metadata": {},
   "source": [
    "To 'fix' this, we update the case study compound table to use the 'PubChem' InChI Key instead of the 'ChEMBL' one..."
   ]
  },
  {
   "cell_type": "code",
   "execution_count": 26,
   "metadata": {
    "collapsed": true
   },
   "outputs": [],
   "source": [
    "cs_cmpds_df.loc[cs_cmpds_df['inchikey'] == 'JQXXHWHPUNPDRT-WLSIYKJHSA-N', 'inchikey'] = 'FZYOVNIOYYPUPY-UXKYPCFPSA-N'"
   ]
  },
  {
   "cell_type": "code",
   "execution_count": 27,
   "metadata": {
    "collapsed": false
   },
   "outputs": [
    {
     "data": {
      "text/html": [
       "<table border=\"1\" class=\"dataframe\">\n",
       "  <thead>\n",
       "    <tr style=\"text-align: right;\">\n",
       "      <th></th>\n",
       "      <th>name</th>\n",
       "      <th>inchikey</th>\n",
       "    </tr>\n",
       "  </thead>\n",
       "  <tbody>\n",
       "    <tr>\n",
       "      <th>59</th>\n",
       "      <td>rifampicin</td>\n",
       "      <td>FZYOVNIOYYPUPY-UXKYPCFPSA-N</td>\n",
       "    </tr>\n",
       "  </tbody>\n",
       "</table>"
      ],
      "text/plain": [
       "          name                     inchikey\n",
       "59  rifampicin  FZYOVNIOYYPUPY-UXKYPCFPSA-N"
      ]
     },
     "execution_count": 27,
     "metadata": {},
     "output_type": "execute_result"
    }
   ],
   "source": [
    "cs_cmpds_df.query(\"name == 'rifampicin'\")[['name', 'inchikey']]"
   ]
  },
  {
   "cell_type": "code",
   "execution_count": 28,
   "metadata": {
    "collapsed": false
   },
   "outputs": [
    {
     "data": {
      "text/plain": [
       "(0, 0)"
      ]
     },
     "execution_count": 28,
     "metadata": {},
     "output_type": "execute_result"
    }
   ],
   "source": [
    "# Query Case Study compounds table and PubChem substance/compound table with 'ChEMBL' InChI Key...\n",
    "\n",
    "inchikey = 'JQXXHWHPUNPDRT-WLSIYKJHSA-N'\n",
    "\n",
    "cs_cmpds_df.query(\"inchikey == @inchikey\").shape[0], sid_mols_df.query(\"inchikey == @inchikey\").shape[0]"
   ]
  },
  {
   "cell_type": "code",
   "execution_count": 29,
   "metadata": {
    "collapsed": false
   },
   "outputs": [
    {
     "data": {
      "text/plain": [
       "(1, 4)"
      ]
     },
     "execution_count": 29,
     "metadata": {},
     "output_type": "execute_result"
    }
   ],
   "source": [
    "# Query Case Study compounds table and PubChem substance/compound table with 'PubChem' InChI Key...\n",
    "\n",
    "inchikey = 'FZYOVNIOYYPUPY-UXKYPCFPSA-N'\n",
    "\n",
    "cs_cmpds_df.query(\"inchikey == @inchikey\").shape[0], sid_mols_df.query(\"inchikey == @inchikey\").shape[0]"
   ]
  },
  {
   "cell_type": "code",
   "execution_count": 30,
   "metadata": {
    "collapsed": false
   },
   "outputs": [
    {
     "data": {
      "text/html": [
       "<table border=\"1\" class=\"dataframe\">\n",
       "  <thead>\n",
       "    <tr style=\"text-align: right;\">\n",
       "      <th></th>\n",
       "      <th>inchikey</th>\n",
       "      <th>name</th>\n",
       "      <th>Case Study 1</th>\n",
       "      <th>Case Study 2</th>\n",
       "      <th>Case Study 3</th>\n",
       "      <th>Case Study 4</th>\n",
       "      <th>Case Study 5</th>\n",
       "      <th>Case Study 6</th>\n",
       "      <th>Case Study 7</th>\n",
       "    </tr>\n",
       "  </thead>\n",
       "  <tbody>\n",
       "    <tr>\n",
       "      <th>0</th>\n",
       "      <td>ZRYCZAWRXHAAPZ-UHFFFAOYSA-N</td>\n",
       "      <td>2,2-dimethyl-pentanoic acid</td>\n",
       "      <td>✗</td>\n",
       "      <td>✓</td>\n",
       "      <td>✗</td>\n",
       "      <td>✗</td>\n",
       "      <td>✗</td>\n",
       "      <td>✗</td>\n",
       "      <td>✗</td>\n",
       "    </tr>\n",
       "  </tbody>\n",
       "</table>"
      ],
      "text/plain": [
       "                      inchikey                         name Case Study 1 Case Study 2 Case Study 3 Case Study 4 Case Study 5 Case Study 6 Case Study 7\n",
       "0  ZRYCZAWRXHAAPZ-UHFFFAOYSA-N  2,2-dimethyl-pentanoic acid            ✗            ✓            ✗            ✗            ✗            ✗            ✗"
      ]
     },
     "execution_count": 30,
     "metadata": {},
     "output_type": "execute_result"
    }
   ],
   "source": [
    "# Subset and re-order column names for convenience...\n",
    "\n",
    "cs_cmpds_df = cs_cmpds_df[['inchikey', 'name'] + cs_cmpds_df.columns[cs_cmpds_df.columns.str.contains(\"^Case Study \\d+$\")].tolist()]\n",
    "\n",
    "cs_cmpds_df.head(1)"
   ]
  },
  {
   "cell_type": "code",
   "execution_count": 31,
   "metadata": {
    "collapsed": true
   },
   "outputs": [],
   "source": [
    "# Save the modified version of case study compounds file...\n",
    "\n",
    "cs_cmpds_df.to_pickle(os.path.join(data_dir, 'case_study_compounds_2.pkl'))"
   ]
  }
 ],
 "metadata": {
  "anaconda-cloud": {},
  "kernelspec": {
   "display_name": "Python 3",
   "language": "python",
   "name": "python3"
  },
  "language_info": {
   "codemirror_mode": {
    "name": "ipython",
    "version": 3
   },
   "file_extension": ".py",
   "mimetype": "text/x-python",
   "name": "python",
   "nbconvert_exporter": "python",
   "pygments_lexer": "ipython3",
   "version": "3.5.2"
  }
 },
 "nbformat": 4,
 "nbformat_minor": 2
}
